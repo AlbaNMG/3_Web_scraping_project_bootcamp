{
 "cells": [
  {
   "cell_type": "code",
   "execution_count": 1,
   "id": "0f6a8af6-3e92-4341-9754-dc4374f5d147",
   "metadata": {
    "pycharm": {
     "name": "#%%\n"
    }
   },
   "outputs": [
    {
     "name": "stdout",
     "output_type": "stream",
     "text": [
      "BackRub\n"
     ]
    },
    {
     "ename": "SystemExit",
     "evalue": "0",
     "output_type": "error",
     "traceback": [
      "An exception has occurred, use %tb to see the full traceback.\n",
      "\u001b[1;31mSystemExit\u001b[0m\u001b[1;31m:\u001b[0m 0\n"
     ]
    },
    {
     "name": "stderr",
     "output_type": "stream",
     "text": [
      "C:\\Anaconda3\\lib\\site-packages\\IPython\\core\\interactiveshell.py:3452: UserWarning: To exit: use 'exit', 'quit', or Ctrl-D.\n",
      "  warn(\"To exit: use 'exit', 'quit', or Ctrl-D.\", stacklevel=1)\n"
     ]
    }
   ],
   "source": [
    "#GUI imports\n",
    "#pip install PyQt5\n",
    "import sys\n",
    "from PyQt5.QtWidgets import QApplication, QLabel, QPushButton, QVBoxLayout, QWidget, QFileDialog, QGridLayout\n",
    "from PyQt5.QtGui import QPixmap\n",
    "from PyQt5 import QtGui, QtCore\n",
    "from PyQt5.QtGui import QCursor\n",
    "#function imports\n",
    "from functions import frame1, frame2, frame3, frame4, grid\n",
    "\n",
    "#initiallize GUI application\n",
    "app = QApplication(sys.argv)\n",
    "\n",
    "#window and settings\n",
    "window = QWidget()\n",
    "window.setWindowTitle(\"L.trivia\")\n",
    "window.setFixedWidth(1000)\n",
    "#place window in (x,y) coordinates\n",
    "# window.move(2700, 200)\n",
    "window.setStyleSheet(\"background: #161219;\")\n",
    "\n",
    "#display frame 1\n",
    "frame1()\n",
    "\n",
    "window.setLayout(grid)\n",
    "\n",
    "window.show()\n",
    "sys.exit(app.exec()) #terminate the app"
   ]
  },
  {
   "cell_type": "code",
   "execution_count": null,
   "id": "4dc6d8da-bf9d-4a64-bd52-8856555b6cb4",
   "metadata": {
    "pycharm": {
     "name": "#%%\n"
    }
   },
   "outputs": [],
   "source": []
  },
  {
   "cell_type": "code",
   "execution_count": null,
   "id": "c8bbfa85",
   "metadata": {},
   "outputs": [],
   "source": []
  }
 ],
 "metadata": {
  "kernelspec": {
   "display_name": "Python 3 (ipykernel)",
   "language": "python",
   "name": "python3"
  },
  "language_info": {
   "codemirror_mode": {
    "name": "ipython",
    "version": 3
   },
   "file_extension": ".py",
   "mimetype": "text/x-python",
   "name": "python",
   "nbconvert_exporter": "python",
   "pygments_lexer": "ipython3",
   "version": "3.9.7"
  }
 },
 "nbformat": 4,
 "nbformat_minor": 5
}
