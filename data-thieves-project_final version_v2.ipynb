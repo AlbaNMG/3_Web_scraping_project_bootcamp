{
 "cells": [
  {
   "cell_type": "code",
   "execution_count": 1,
   "id": "cb417a00",
   "metadata": {},
   "outputs": [
    {
     "ename": "URLError",
     "evalue": "<urlopen error [Errno 11001] getaddrinfo failed>",
     "output_type": "error",
     "traceback": [
      "\u001b[1;31m---------------------------------------------------------------------------\u001b[0m",
      "\u001b[1;31mgaierror\u001b[0m                                  Traceback (most recent call last)",
      "\u001b[1;32m~\\Anaconda3\\lib\\urllib\\request.py\u001b[0m in \u001b[0;36mdo_open\u001b[1;34m(self, http_class, req, **http_conn_args)\u001b[0m\n\u001b[0;32m   1345\u001b[0m             \u001b[1;32mtry\u001b[0m\u001b[1;33m:\u001b[0m\u001b[1;33m\u001b[0m\u001b[1;33m\u001b[0m\u001b[0m\n\u001b[1;32m-> 1346\u001b[1;33m                 h.request(req.get_method(), req.selector, req.data, headers,\n\u001b[0m\u001b[0;32m   1347\u001b[0m                           encode_chunked=req.has_header('Transfer-encoding'))\n",
      "\u001b[1;32m~\\Anaconda3\\lib\\http\\client.py\u001b[0m in \u001b[0;36mrequest\u001b[1;34m(self, method, url, body, headers, encode_chunked)\u001b[0m\n\u001b[0;32m   1278\u001b[0m         \u001b[1;34m\"\"\"Send a complete request to the server.\"\"\"\u001b[0m\u001b[1;33m\u001b[0m\u001b[1;33m\u001b[0m\u001b[0m\n\u001b[1;32m-> 1279\u001b[1;33m         \u001b[0mself\u001b[0m\u001b[1;33m.\u001b[0m\u001b[0m_send_request\u001b[0m\u001b[1;33m(\u001b[0m\u001b[0mmethod\u001b[0m\u001b[1;33m,\u001b[0m \u001b[0murl\u001b[0m\u001b[1;33m,\u001b[0m \u001b[0mbody\u001b[0m\u001b[1;33m,\u001b[0m \u001b[0mheaders\u001b[0m\u001b[1;33m,\u001b[0m \u001b[0mencode_chunked\u001b[0m\u001b[1;33m)\u001b[0m\u001b[1;33m\u001b[0m\u001b[1;33m\u001b[0m\u001b[0m\n\u001b[0m\u001b[0;32m   1280\u001b[0m \u001b[1;33m\u001b[0m\u001b[0m\n",
      "\u001b[1;32m~\\Anaconda3\\lib\\http\\client.py\u001b[0m in \u001b[0;36m_send_request\u001b[1;34m(self, method, url, body, headers, encode_chunked)\u001b[0m\n\u001b[0;32m   1324\u001b[0m             \u001b[0mbody\u001b[0m \u001b[1;33m=\u001b[0m \u001b[0m_encode\u001b[0m\u001b[1;33m(\u001b[0m\u001b[0mbody\u001b[0m\u001b[1;33m,\u001b[0m \u001b[1;34m'body'\u001b[0m\u001b[1;33m)\u001b[0m\u001b[1;33m\u001b[0m\u001b[1;33m\u001b[0m\u001b[0m\n\u001b[1;32m-> 1325\u001b[1;33m         \u001b[0mself\u001b[0m\u001b[1;33m.\u001b[0m\u001b[0mendheaders\u001b[0m\u001b[1;33m(\u001b[0m\u001b[0mbody\u001b[0m\u001b[1;33m,\u001b[0m \u001b[0mencode_chunked\u001b[0m\u001b[1;33m=\u001b[0m\u001b[0mencode_chunked\u001b[0m\u001b[1;33m)\u001b[0m\u001b[1;33m\u001b[0m\u001b[1;33m\u001b[0m\u001b[0m\n\u001b[0m\u001b[0;32m   1326\u001b[0m \u001b[1;33m\u001b[0m\u001b[0m\n",
      "\u001b[1;32m~\\Anaconda3\\lib\\http\\client.py\u001b[0m in \u001b[0;36mendheaders\u001b[1;34m(self, message_body, encode_chunked)\u001b[0m\n\u001b[0;32m   1273\u001b[0m             \u001b[1;32mraise\u001b[0m \u001b[0mCannotSendHeader\u001b[0m\u001b[1;33m(\u001b[0m\u001b[1;33m)\u001b[0m\u001b[1;33m\u001b[0m\u001b[1;33m\u001b[0m\u001b[0m\n\u001b[1;32m-> 1274\u001b[1;33m         \u001b[0mself\u001b[0m\u001b[1;33m.\u001b[0m\u001b[0m_send_output\u001b[0m\u001b[1;33m(\u001b[0m\u001b[0mmessage_body\u001b[0m\u001b[1;33m,\u001b[0m \u001b[0mencode_chunked\u001b[0m\u001b[1;33m=\u001b[0m\u001b[0mencode_chunked\u001b[0m\u001b[1;33m)\u001b[0m\u001b[1;33m\u001b[0m\u001b[1;33m\u001b[0m\u001b[0m\n\u001b[0m\u001b[0;32m   1275\u001b[0m \u001b[1;33m\u001b[0m\u001b[0m\n",
      "\u001b[1;32m~\\Anaconda3\\lib\\http\\client.py\u001b[0m in \u001b[0;36m_send_output\u001b[1;34m(self, message_body, encode_chunked)\u001b[0m\n\u001b[0;32m   1033\u001b[0m         \u001b[1;32mdel\u001b[0m \u001b[0mself\u001b[0m\u001b[1;33m.\u001b[0m\u001b[0m_buffer\u001b[0m\u001b[1;33m[\u001b[0m\u001b[1;33m:\u001b[0m\u001b[1;33m]\u001b[0m\u001b[1;33m\u001b[0m\u001b[1;33m\u001b[0m\u001b[0m\n\u001b[1;32m-> 1034\u001b[1;33m         \u001b[0mself\u001b[0m\u001b[1;33m.\u001b[0m\u001b[0msend\u001b[0m\u001b[1;33m(\u001b[0m\u001b[0mmsg\u001b[0m\u001b[1;33m)\u001b[0m\u001b[1;33m\u001b[0m\u001b[1;33m\u001b[0m\u001b[0m\n\u001b[0m\u001b[0;32m   1035\u001b[0m \u001b[1;33m\u001b[0m\u001b[0m\n",
      "\u001b[1;32m~\\Anaconda3\\lib\\http\\client.py\u001b[0m in \u001b[0;36msend\u001b[1;34m(self, data)\u001b[0m\n\u001b[0;32m    973\u001b[0m             \u001b[1;32mif\u001b[0m \u001b[0mself\u001b[0m\u001b[1;33m.\u001b[0m\u001b[0mauto_open\u001b[0m\u001b[1;33m:\u001b[0m\u001b[1;33m\u001b[0m\u001b[1;33m\u001b[0m\u001b[0m\n\u001b[1;32m--> 974\u001b[1;33m                 \u001b[0mself\u001b[0m\u001b[1;33m.\u001b[0m\u001b[0mconnect\u001b[0m\u001b[1;33m(\u001b[0m\u001b[1;33m)\u001b[0m\u001b[1;33m\u001b[0m\u001b[1;33m\u001b[0m\u001b[0m\n\u001b[0m\u001b[0;32m    975\u001b[0m             \u001b[1;32melse\u001b[0m\u001b[1;33m:\u001b[0m\u001b[1;33m\u001b[0m\u001b[1;33m\u001b[0m\u001b[0m\n",
      "\u001b[1;32m~\\Anaconda3\\lib\\http\\client.py\u001b[0m in \u001b[0;36mconnect\u001b[1;34m(self)\u001b[0m\n\u001b[0;32m   1440\u001b[0m \u001b[1;33m\u001b[0m\u001b[0m\n\u001b[1;32m-> 1441\u001b[1;33m             \u001b[0msuper\u001b[0m\u001b[1;33m(\u001b[0m\u001b[1;33m)\u001b[0m\u001b[1;33m.\u001b[0m\u001b[0mconnect\u001b[0m\u001b[1;33m(\u001b[0m\u001b[1;33m)\u001b[0m\u001b[1;33m\u001b[0m\u001b[1;33m\u001b[0m\u001b[0m\n\u001b[0m\u001b[0;32m   1442\u001b[0m \u001b[1;33m\u001b[0m\u001b[0m\n",
      "\u001b[1;32m~\\Anaconda3\\lib\\http\\client.py\u001b[0m in \u001b[0;36mconnect\u001b[1;34m(self)\u001b[0m\n\u001b[0;32m    944\u001b[0m         \u001b[1;34m\"\"\"Connect to the host and port specified in __init__.\"\"\"\u001b[0m\u001b[1;33m\u001b[0m\u001b[1;33m\u001b[0m\u001b[0m\n\u001b[1;32m--> 945\u001b[1;33m         self.sock = self._create_connection(\n\u001b[0m\u001b[0;32m    946\u001b[0m             (self.host,self.port), self.timeout, self.source_address)\n",
      "\u001b[1;32m~\\Anaconda3\\lib\\socket.py\u001b[0m in \u001b[0;36mcreate_connection\u001b[1;34m(address, timeout, source_address)\u001b[0m\n\u001b[0;32m    822\u001b[0m     \u001b[0merr\u001b[0m \u001b[1;33m=\u001b[0m \u001b[1;32mNone\u001b[0m\u001b[1;33m\u001b[0m\u001b[1;33m\u001b[0m\u001b[0m\n\u001b[1;32m--> 823\u001b[1;33m     \u001b[1;32mfor\u001b[0m \u001b[0mres\u001b[0m \u001b[1;32min\u001b[0m \u001b[0mgetaddrinfo\u001b[0m\u001b[1;33m(\u001b[0m\u001b[0mhost\u001b[0m\u001b[1;33m,\u001b[0m \u001b[0mport\u001b[0m\u001b[1;33m,\u001b[0m \u001b[1;36m0\u001b[0m\u001b[1;33m,\u001b[0m \u001b[0mSOCK_STREAM\u001b[0m\u001b[1;33m)\u001b[0m\u001b[1;33m:\u001b[0m\u001b[1;33m\u001b[0m\u001b[1;33m\u001b[0m\u001b[0m\n\u001b[0m\u001b[0;32m    824\u001b[0m         \u001b[0maf\u001b[0m\u001b[1;33m,\u001b[0m \u001b[0msocktype\u001b[0m\u001b[1;33m,\u001b[0m \u001b[0mproto\u001b[0m\u001b[1;33m,\u001b[0m \u001b[0mcanonname\u001b[0m\u001b[1;33m,\u001b[0m \u001b[0msa\u001b[0m \u001b[1;33m=\u001b[0m \u001b[0mres\u001b[0m\u001b[1;33m\u001b[0m\u001b[1;33m\u001b[0m\u001b[0m\n",
      "\u001b[1;32m~\\Anaconda3\\lib\\socket.py\u001b[0m in \u001b[0;36mgetaddrinfo\u001b[1;34m(host, port, family, type, proto, flags)\u001b[0m\n\u001b[0;32m    953\u001b[0m     \u001b[0maddrlist\u001b[0m \u001b[1;33m=\u001b[0m \u001b[1;33m[\u001b[0m\u001b[1;33m]\u001b[0m\u001b[1;33m\u001b[0m\u001b[1;33m\u001b[0m\u001b[0m\n\u001b[1;32m--> 954\u001b[1;33m     \u001b[1;32mfor\u001b[0m \u001b[0mres\u001b[0m \u001b[1;32min\u001b[0m \u001b[0m_socket\u001b[0m\u001b[1;33m.\u001b[0m\u001b[0mgetaddrinfo\u001b[0m\u001b[1;33m(\u001b[0m\u001b[0mhost\u001b[0m\u001b[1;33m,\u001b[0m \u001b[0mport\u001b[0m\u001b[1;33m,\u001b[0m \u001b[0mfamily\u001b[0m\u001b[1;33m,\u001b[0m \u001b[0mtype\u001b[0m\u001b[1;33m,\u001b[0m \u001b[0mproto\u001b[0m\u001b[1;33m,\u001b[0m \u001b[0mflags\u001b[0m\u001b[1;33m)\u001b[0m\u001b[1;33m:\u001b[0m\u001b[1;33m\u001b[0m\u001b[1;33m\u001b[0m\u001b[0m\n\u001b[0m\u001b[0;32m    955\u001b[0m         \u001b[0maf\u001b[0m\u001b[1;33m,\u001b[0m \u001b[0msocktype\u001b[0m\u001b[1;33m,\u001b[0m \u001b[0mproto\u001b[0m\u001b[1;33m,\u001b[0m \u001b[0mcanonname\u001b[0m\u001b[1;33m,\u001b[0m \u001b[0msa\u001b[0m \u001b[1;33m=\u001b[0m \u001b[0mres\u001b[0m\u001b[1;33m\u001b[0m\u001b[1;33m\u001b[0m\u001b[0m\n",
      "\u001b[1;31mgaierror\u001b[0m: [Errno 11001] getaddrinfo failed",
      "\nDuring handling of the above exception, another exception occurred:\n",
      "\u001b[1;31mURLError\u001b[0m                                  Traceback (most recent call last)",
      "\u001b[1;32mC:\\Users\\AMOHED~1\\AppData\\Local\\Temp/ipykernel_16656/4024410155.py\u001b[0m in \u001b[0;36m<module>\u001b[1;34m\u001b[0m\n\u001b[0;32m     28\u001b[0m \u001b[1;32mfrom\u001b[0m \u001b[0mPyQt5\u001b[0m\u001b[1;33m.\u001b[0m\u001b[0mQtGui\u001b[0m \u001b[1;32mimport\u001b[0m \u001b[0mQCursor\u001b[0m\u001b[1;33m\u001b[0m\u001b[1;33m\u001b[0m\u001b[0m\n\u001b[0;32m     29\u001b[0m \u001b[1;31m#function imports\u001b[0m\u001b[1;33m\u001b[0m\u001b[1;33m\u001b[0m\u001b[0m\n\u001b[1;32m---> 30\u001b[1;33m \u001b[1;32mfrom\u001b[0m \u001b[0mfunctions\u001b[0m \u001b[1;32mimport\u001b[0m \u001b[0mframe1\u001b[0m\u001b[1;33m,\u001b[0m \u001b[0mframe2\u001b[0m\u001b[1;33m,\u001b[0m \u001b[0mframe3\u001b[0m\u001b[1;33m,\u001b[0m \u001b[0mframe4\u001b[0m\u001b[1;33m,\u001b[0m \u001b[0mgrid\u001b[0m\u001b[1;33m\u001b[0m\u001b[1;33m\u001b[0m\u001b[0m\n\u001b[0m",
      "\u001b[1;32m~\\Downloads\\0.Ironhack\\Proyectos\\Data-thieves-Project\\Final version\\functions.py\u001b[0m in \u001b[0;36m<module>\u001b[1;34m\u001b[0m\n\u001b[0;32m      8\u001b[0m \u001b[1;33m\u001b[0m\u001b[0m\n\u001b[0;32m      9\u001b[0m \u001b[1;31m#open api link to database\u001b[0m\u001b[1;33m\u001b[0m\u001b[1;33m\u001b[0m\u001b[0m\n\u001b[1;32m---> 10\u001b[1;33m \u001b[1;32mwith\u001b[0m \u001b[0murlopen\u001b[0m\u001b[1;33m(\u001b[0m\u001b[1;34m\"https://opentdb.com/api.php?amount=50&category=9&difficulty=medium&type=multiple\"\u001b[0m\u001b[1;33m)\u001b[0m \u001b[1;32mas\u001b[0m \u001b[0mwebpage\u001b[0m\u001b[1;33m:\u001b[0m\u001b[1;33m\u001b[0m\u001b[1;33m\u001b[0m\u001b[0m\n\u001b[0m\u001b[0;32m     11\u001b[0m     \u001b[1;31m#read JSON file & extract data\u001b[0m\u001b[1;33m\u001b[0m\u001b[1;33m\u001b[0m\u001b[0m\n\u001b[0;32m     12\u001b[0m     \u001b[0mdata\u001b[0m \u001b[1;33m=\u001b[0m \u001b[0mjson\u001b[0m\u001b[1;33m.\u001b[0m\u001b[0mloads\u001b[0m\u001b[1;33m(\u001b[0m\u001b[0mwebpage\u001b[0m\u001b[1;33m.\u001b[0m\u001b[0mread\u001b[0m\u001b[1;33m(\u001b[0m\u001b[1;33m)\u001b[0m\u001b[1;33m.\u001b[0m\u001b[0mdecode\u001b[0m\u001b[1;33m(\u001b[0m\u001b[1;33m)\u001b[0m\u001b[1;33m)\u001b[0m\u001b[1;33m\u001b[0m\u001b[1;33m\u001b[0m\u001b[0m\n",
      "\u001b[1;32m~\\Anaconda3\\lib\\urllib\\request.py\u001b[0m in \u001b[0;36murlopen\u001b[1;34m(url, data, timeout, cafile, capath, cadefault, context)\u001b[0m\n\u001b[0;32m    212\u001b[0m     \u001b[1;32melse\u001b[0m\u001b[1;33m:\u001b[0m\u001b[1;33m\u001b[0m\u001b[1;33m\u001b[0m\u001b[0m\n\u001b[0;32m    213\u001b[0m         \u001b[0mopener\u001b[0m \u001b[1;33m=\u001b[0m \u001b[0m_opener\u001b[0m\u001b[1;33m\u001b[0m\u001b[1;33m\u001b[0m\u001b[0m\n\u001b[1;32m--> 214\u001b[1;33m     \u001b[1;32mreturn\u001b[0m \u001b[0mopener\u001b[0m\u001b[1;33m.\u001b[0m\u001b[0mopen\u001b[0m\u001b[1;33m(\u001b[0m\u001b[0murl\u001b[0m\u001b[1;33m,\u001b[0m \u001b[0mdata\u001b[0m\u001b[1;33m,\u001b[0m \u001b[0mtimeout\u001b[0m\u001b[1;33m)\u001b[0m\u001b[1;33m\u001b[0m\u001b[1;33m\u001b[0m\u001b[0m\n\u001b[0m\u001b[0;32m    215\u001b[0m \u001b[1;33m\u001b[0m\u001b[0m\n\u001b[0;32m    216\u001b[0m \u001b[1;32mdef\u001b[0m \u001b[0minstall_opener\u001b[0m\u001b[1;33m(\u001b[0m\u001b[0mopener\u001b[0m\u001b[1;33m)\u001b[0m\u001b[1;33m:\u001b[0m\u001b[1;33m\u001b[0m\u001b[1;33m\u001b[0m\u001b[0m\n",
      "\u001b[1;32m~\\Anaconda3\\lib\\urllib\\request.py\u001b[0m in \u001b[0;36mopen\u001b[1;34m(self, fullurl, data, timeout)\u001b[0m\n\u001b[0;32m    515\u001b[0m \u001b[1;33m\u001b[0m\u001b[0m\n\u001b[0;32m    516\u001b[0m         \u001b[0msys\u001b[0m\u001b[1;33m.\u001b[0m\u001b[0maudit\u001b[0m\u001b[1;33m(\u001b[0m\u001b[1;34m'urllib.Request'\u001b[0m\u001b[1;33m,\u001b[0m \u001b[0mreq\u001b[0m\u001b[1;33m.\u001b[0m\u001b[0mfull_url\u001b[0m\u001b[1;33m,\u001b[0m \u001b[0mreq\u001b[0m\u001b[1;33m.\u001b[0m\u001b[0mdata\u001b[0m\u001b[1;33m,\u001b[0m \u001b[0mreq\u001b[0m\u001b[1;33m.\u001b[0m\u001b[0mheaders\u001b[0m\u001b[1;33m,\u001b[0m \u001b[0mreq\u001b[0m\u001b[1;33m.\u001b[0m\u001b[0mget_method\u001b[0m\u001b[1;33m(\u001b[0m\u001b[1;33m)\u001b[0m\u001b[1;33m)\u001b[0m\u001b[1;33m\u001b[0m\u001b[1;33m\u001b[0m\u001b[0m\n\u001b[1;32m--> 517\u001b[1;33m         \u001b[0mresponse\u001b[0m \u001b[1;33m=\u001b[0m \u001b[0mself\u001b[0m\u001b[1;33m.\u001b[0m\u001b[0m_open\u001b[0m\u001b[1;33m(\u001b[0m\u001b[0mreq\u001b[0m\u001b[1;33m,\u001b[0m \u001b[0mdata\u001b[0m\u001b[1;33m)\u001b[0m\u001b[1;33m\u001b[0m\u001b[1;33m\u001b[0m\u001b[0m\n\u001b[0m\u001b[0;32m    518\u001b[0m \u001b[1;33m\u001b[0m\u001b[0m\n\u001b[0;32m    519\u001b[0m         \u001b[1;31m# post-process response\u001b[0m\u001b[1;33m\u001b[0m\u001b[1;33m\u001b[0m\u001b[0m\n",
      "\u001b[1;32m~\\Anaconda3\\lib\\urllib\\request.py\u001b[0m in \u001b[0;36m_open\u001b[1;34m(self, req, data)\u001b[0m\n\u001b[0;32m    532\u001b[0m \u001b[1;33m\u001b[0m\u001b[0m\n\u001b[0;32m    533\u001b[0m         \u001b[0mprotocol\u001b[0m \u001b[1;33m=\u001b[0m \u001b[0mreq\u001b[0m\u001b[1;33m.\u001b[0m\u001b[0mtype\u001b[0m\u001b[1;33m\u001b[0m\u001b[1;33m\u001b[0m\u001b[0m\n\u001b[1;32m--> 534\u001b[1;33m         result = self._call_chain(self.handle_open, protocol, protocol +\n\u001b[0m\u001b[0;32m    535\u001b[0m                                   '_open', req)\n\u001b[0;32m    536\u001b[0m         \u001b[1;32mif\u001b[0m \u001b[0mresult\u001b[0m\u001b[1;33m:\u001b[0m\u001b[1;33m\u001b[0m\u001b[1;33m\u001b[0m\u001b[0m\n",
      "\u001b[1;32m~\\Anaconda3\\lib\\urllib\\request.py\u001b[0m in \u001b[0;36m_call_chain\u001b[1;34m(self, chain, kind, meth_name, *args)\u001b[0m\n\u001b[0;32m    492\u001b[0m         \u001b[1;32mfor\u001b[0m \u001b[0mhandler\u001b[0m \u001b[1;32min\u001b[0m \u001b[0mhandlers\u001b[0m\u001b[1;33m:\u001b[0m\u001b[1;33m\u001b[0m\u001b[1;33m\u001b[0m\u001b[0m\n\u001b[0;32m    493\u001b[0m             \u001b[0mfunc\u001b[0m \u001b[1;33m=\u001b[0m \u001b[0mgetattr\u001b[0m\u001b[1;33m(\u001b[0m\u001b[0mhandler\u001b[0m\u001b[1;33m,\u001b[0m \u001b[0mmeth_name\u001b[0m\u001b[1;33m)\u001b[0m\u001b[1;33m\u001b[0m\u001b[1;33m\u001b[0m\u001b[0m\n\u001b[1;32m--> 494\u001b[1;33m             \u001b[0mresult\u001b[0m \u001b[1;33m=\u001b[0m \u001b[0mfunc\u001b[0m\u001b[1;33m(\u001b[0m\u001b[1;33m*\u001b[0m\u001b[0margs\u001b[0m\u001b[1;33m)\u001b[0m\u001b[1;33m\u001b[0m\u001b[1;33m\u001b[0m\u001b[0m\n\u001b[0m\u001b[0;32m    495\u001b[0m             \u001b[1;32mif\u001b[0m \u001b[0mresult\u001b[0m \u001b[1;32mis\u001b[0m \u001b[1;32mnot\u001b[0m \u001b[1;32mNone\u001b[0m\u001b[1;33m:\u001b[0m\u001b[1;33m\u001b[0m\u001b[1;33m\u001b[0m\u001b[0m\n\u001b[0;32m    496\u001b[0m                 \u001b[1;32mreturn\u001b[0m \u001b[0mresult\u001b[0m\u001b[1;33m\u001b[0m\u001b[1;33m\u001b[0m\u001b[0m\n",
      "\u001b[1;32m~\\Anaconda3\\lib\\urllib\\request.py\u001b[0m in \u001b[0;36mhttps_open\u001b[1;34m(self, req)\u001b[0m\n\u001b[0;32m   1387\u001b[0m \u001b[1;33m\u001b[0m\u001b[0m\n\u001b[0;32m   1388\u001b[0m         \u001b[1;32mdef\u001b[0m \u001b[0mhttps_open\u001b[0m\u001b[1;33m(\u001b[0m\u001b[0mself\u001b[0m\u001b[1;33m,\u001b[0m \u001b[0mreq\u001b[0m\u001b[1;33m)\u001b[0m\u001b[1;33m:\u001b[0m\u001b[1;33m\u001b[0m\u001b[1;33m\u001b[0m\u001b[0m\n\u001b[1;32m-> 1389\u001b[1;33m             return self.do_open(http.client.HTTPSConnection, req,\n\u001b[0m\u001b[0;32m   1390\u001b[0m                 context=self._context, check_hostname=self._check_hostname)\n\u001b[0;32m   1391\u001b[0m \u001b[1;33m\u001b[0m\u001b[0m\n",
      "\u001b[1;32m~\\Anaconda3\\lib\\urllib\\request.py\u001b[0m in \u001b[0;36mdo_open\u001b[1;34m(self, http_class, req, **http_conn_args)\u001b[0m\n\u001b[0;32m   1347\u001b[0m                           encode_chunked=req.has_header('Transfer-encoding'))\n\u001b[0;32m   1348\u001b[0m             \u001b[1;32mexcept\u001b[0m \u001b[0mOSError\u001b[0m \u001b[1;32mas\u001b[0m \u001b[0merr\u001b[0m\u001b[1;33m:\u001b[0m \u001b[1;31m# timeout error\u001b[0m\u001b[1;33m\u001b[0m\u001b[1;33m\u001b[0m\u001b[0m\n\u001b[1;32m-> 1349\u001b[1;33m                 \u001b[1;32mraise\u001b[0m \u001b[0mURLError\u001b[0m\u001b[1;33m(\u001b[0m\u001b[0merr\u001b[0m\u001b[1;33m)\u001b[0m\u001b[1;33m\u001b[0m\u001b[1;33m\u001b[0m\u001b[0m\n\u001b[0m\u001b[0;32m   1350\u001b[0m             \u001b[0mr\u001b[0m \u001b[1;33m=\u001b[0m \u001b[0mh\u001b[0m\u001b[1;33m.\u001b[0m\u001b[0mgetresponse\u001b[0m\u001b[1;33m(\u001b[0m\u001b[1;33m)\u001b[0m\u001b[1;33m\u001b[0m\u001b[1;33m\u001b[0m\u001b[0m\n\u001b[0;32m   1351\u001b[0m         \u001b[1;32mexcept\u001b[0m\u001b[1;33m:\u001b[0m\u001b[1;33m\u001b[0m\u001b[1;33m\u001b[0m\u001b[0m\n",
      "\u001b[1;31mURLError\u001b[0m: <urlopen error [Errno 11001] getaddrinfo failed>"
     ]
    }
   ],
   "source": [
    "import re\n",
    "import pandas as pd\n",
    "import random\n",
    "import requests\n",
    "import getpass\n",
    "from bs4 import BeautifulSoup\n",
    "\n",
    "#Twitter\n",
    "#!pip install tweepy\n",
    "import tweepy\n",
    "from tweepy.auth import OAuthHandler\n",
    "\n",
    "#Yotube and Spotify\n",
    "#!pip install youtube-data-api\n",
    "from youtube_api import YouTubeDataAPI\n",
    "#!pip install spotipy\n",
    "import spotipy\n",
    "from spotipy.oauth2 import SpotifyClientCredentials\n",
    "import webbrowser\n",
    "\n",
    "#for the game\n",
    "#GUI imports\n",
    "#!pip install PyQt5\n",
    "import sys\n",
    "from PyQt5.QtWidgets import QApplication, QLabel, QPushButton, QVBoxLayout, QWidget, QFileDialog, QGridLayout\n",
    "from PyQt5.QtGui import QPixmap\n",
    "from PyQt5 import QtGui, QtCore\n",
    "from PyQt5.QtGui import QCursor\n",
    "#function imports\n",
    "from functions import frame1, frame2, frame3, frame4, grid"
   ]
  },
  {
   "cell_type": "markdown",
   "id": "152e744d",
   "metadata": {},
   "source": [
    "# Twitter API - Short readings"
   ]
  },
  {
   "cell_type": "code",
   "execution_count": 5,
   "id": "885b027b",
   "metadata": {},
   "outputs": [],
   "source": [
    "# OPTION 1: secrets stored locally in a dict\n",
    "secrets_dict={}\n",
    "secrets_file = open(\"Twitter keys.txt\")\n",
    "for line in secrets_file:\n",
    "    (key, val) = line.replace('\\n','').split(':')\n",
    "    secrets_dict[key] = val\n",
    "    \n",
    "# authenticate you as a developer \n",
    "auth = tweepy.OAuthHandler(secrets_dict['API Key'],secrets_dict['API Key Secret'])\n",
    "\n",
    "# create a session that authenticates you as a user\n",
    "auth.set_access_token(secrets_dict['Access Token'], secrets_dict['Access Token Secret'])"
   ]
  },
  {
   "cell_type": "code",
   "execution_count": 3,
   "id": "297a42e8",
   "metadata": {},
   "outputs": [],
   "source": [
    "# OPTION 2:Twitter keys with getpass\n",
    "#api_key=getpass.getpass()\n",
    "\n",
    "#api_key_secret=getpass.getpass()\n",
    "\n",
    "#access_token=getpass.getpass()\n",
    "\n",
    "#access_token_secret=getpass.getpass()\n",
    "\n",
    "# authenticate you as a developer \n",
    "# auth = tweepy.OAuthHandler(api_key,api_key_secret)\n",
    "\n",
    "# create a session that authenticates you as a user\n",
    "# auth.set_access_token(access_token, access_token_secret)"
   ]
  },
  {
   "cell_type": "code",
   "execution_count": 6,
   "id": "e2fcb02a",
   "metadata": {},
   "outputs": [],
   "source": [
    "# open the API\n",
    "api = tweepy.API(auth)"
   ]
  },
  {
   "cell_type": "markdown",
   "id": "37a60c41",
   "metadata": {},
   "source": [
    "History tweets"
   ]
  },
  {
   "cell_type": "code",
   "execution_count": 7,
   "id": "8e9c971d",
   "metadata": {},
   "outputs": [
    {
     "ename": "TweepyException",
     "evalue": "Failed to send request: HTTPSConnectionPool(host='api.twitter.com', port=443): Max retries exceeded with url: /1.1/statuses/user_timeline.json?screen_name=wldhistoryfacts&count=1&include_rts=False (Caused by NewConnectionError('<urllib3.connection.HTTPSConnection object at 0x0000017743702FD0>: Failed to establish a new connection: [Errno 11001] getaddrinfo failed'))",
     "output_type": "error",
     "traceback": [
      "\u001b[1;31m---------------------------------------------------------------------------\u001b[0m",
      "\u001b[1;31mgaierror\u001b[0m                                  Traceback (most recent call last)",
      "\u001b[1;32m~\\Anaconda3\\lib\\site-packages\\urllib3\\connection.py\u001b[0m in \u001b[0;36m_new_conn\u001b[1;34m(self)\u001b[0m\n\u001b[0;32m    173\u001b[0m         \u001b[1;32mtry\u001b[0m\u001b[1;33m:\u001b[0m\u001b[1;33m\u001b[0m\u001b[1;33m\u001b[0m\u001b[0m\n\u001b[1;32m--> 174\u001b[1;33m             conn = connection.create_connection(\n\u001b[0m\u001b[0;32m    175\u001b[0m                 \u001b[1;33m(\u001b[0m\u001b[0mself\u001b[0m\u001b[1;33m.\u001b[0m\u001b[0m_dns_host\u001b[0m\u001b[1;33m,\u001b[0m \u001b[0mself\u001b[0m\u001b[1;33m.\u001b[0m\u001b[0mport\u001b[0m\u001b[1;33m)\u001b[0m\u001b[1;33m,\u001b[0m \u001b[0mself\u001b[0m\u001b[1;33m.\u001b[0m\u001b[0mtimeout\u001b[0m\u001b[1;33m,\u001b[0m \u001b[1;33m**\u001b[0m\u001b[0mextra_kw\u001b[0m\u001b[1;33m\u001b[0m\u001b[1;33m\u001b[0m\u001b[0m\n",
      "\u001b[1;32m~\\Anaconda3\\lib\\site-packages\\urllib3\\util\\connection.py\u001b[0m in \u001b[0;36mcreate_connection\u001b[1;34m(address, timeout, source_address, socket_options)\u001b[0m\n\u001b[0;32m     72\u001b[0m \u001b[1;33m\u001b[0m\u001b[0m\n\u001b[1;32m---> 73\u001b[1;33m     \u001b[1;32mfor\u001b[0m \u001b[0mres\u001b[0m \u001b[1;32min\u001b[0m \u001b[0msocket\u001b[0m\u001b[1;33m.\u001b[0m\u001b[0mgetaddrinfo\u001b[0m\u001b[1;33m(\u001b[0m\u001b[0mhost\u001b[0m\u001b[1;33m,\u001b[0m \u001b[0mport\u001b[0m\u001b[1;33m,\u001b[0m \u001b[0mfamily\u001b[0m\u001b[1;33m,\u001b[0m \u001b[0msocket\u001b[0m\u001b[1;33m.\u001b[0m\u001b[0mSOCK_STREAM\u001b[0m\u001b[1;33m)\u001b[0m\u001b[1;33m:\u001b[0m\u001b[1;33m\u001b[0m\u001b[1;33m\u001b[0m\u001b[0m\n\u001b[0m\u001b[0;32m     74\u001b[0m         \u001b[0maf\u001b[0m\u001b[1;33m,\u001b[0m \u001b[0msocktype\u001b[0m\u001b[1;33m,\u001b[0m \u001b[0mproto\u001b[0m\u001b[1;33m,\u001b[0m \u001b[0mcanonname\u001b[0m\u001b[1;33m,\u001b[0m \u001b[0msa\u001b[0m \u001b[1;33m=\u001b[0m \u001b[0mres\u001b[0m\u001b[1;33m\u001b[0m\u001b[1;33m\u001b[0m\u001b[0m\n",
      "\u001b[1;32m~\\Anaconda3\\lib\\socket.py\u001b[0m in \u001b[0;36mgetaddrinfo\u001b[1;34m(host, port, family, type, proto, flags)\u001b[0m\n\u001b[0;32m    953\u001b[0m     \u001b[0maddrlist\u001b[0m \u001b[1;33m=\u001b[0m \u001b[1;33m[\u001b[0m\u001b[1;33m]\u001b[0m\u001b[1;33m\u001b[0m\u001b[1;33m\u001b[0m\u001b[0m\n\u001b[1;32m--> 954\u001b[1;33m     \u001b[1;32mfor\u001b[0m \u001b[0mres\u001b[0m \u001b[1;32min\u001b[0m \u001b[0m_socket\u001b[0m\u001b[1;33m.\u001b[0m\u001b[0mgetaddrinfo\u001b[0m\u001b[1;33m(\u001b[0m\u001b[0mhost\u001b[0m\u001b[1;33m,\u001b[0m \u001b[0mport\u001b[0m\u001b[1;33m,\u001b[0m \u001b[0mfamily\u001b[0m\u001b[1;33m,\u001b[0m \u001b[0mtype\u001b[0m\u001b[1;33m,\u001b[0m \u001b[0mproto\u001b[0m\u001b[1;33m,\u001b[0m \u001b[0mflags\u001b[0m\u001b[1;33m)\u001b[0m\u001b[1;33m:\u001b[0m\u001b[1;33m\u001b[0m\u001b[1;33m\u001b[0m\u001b[0m\n\u001b[0m\u001b[0;32m    955\u001b[0m         \u001b[0maf\u001b[0m\u001b[1;33m,\u001b[0m \u001b[0msocktype\u001b[0m\u001b[1;33m,\u001b[0m \u001b[0mproto\u001b[0m\u001b[1;33m,\u001b[0m \u001b[0mcanonname\u001b[0m\u001b[1;33m,\u001b[0m \u001b[0msa\u001b[0m \u001b[1;33m=\u001b[0m \u001b[0mres\u001b[0m\u001b[1;33m\u001b[0m\u001b[1;33m\u001b[0m\u001b[0m\n",
      "\u001b[1;31mgaierror\u001b[0m: [Errno 11001] getaddrinfo failed",
      "\nDuring handling of the above exception, another exception occurred:\n",
      "\u001b[1;31mNewConnectionError\u001b[0m                        Traceback (most recent call last)",
      "\u001b[1;32m~\\Anaconda3\\lib\\site-packages\\urllib3\\connectionpool.py\u001b[0m in \u001b[0;36murlopen\u001b[1;34m(self, method, url, body, headers, retries, redirect, assert_same_host, timeout, pool_timeout, release_conn, chunked, body_pos, **response_kw)\u001b[0m\n\u001b[0;32m    698\u001b[0m             \u001b[1;31m# Make the request on the httplib connection object.\u001b[0m\u001b[1;33m\u001b[0m\u001b[1;33m\u001b[0m\u001b[0m\n\u001b[1;32m--> 699\u001b[1;33m             httplib_response = self._make_request(\n\u001b[0m\u001b[0;32m    700\u001b[0m                 \u001b[0mconn\u001b[0m\u001b[1;33m,\u001b[0m\u001b[1;33m\u001b[0m\u001b[1;33m\u001b[0m\u001b[0m\n",
      "\u001b[1;32m~\\Anaconda3\\lib\\site-packages\\urllib3\\connectionpool.py\u001b[0m in \u001b[0;36m_make_request\u001b[1;34m(self, conn, method, url, timeout, chunked, **httplib_request_kw)\u001b[0m\n\u001b[0;32m    381\u001b[0m         \u001b[1;32mtry\u001b[0m\u001b[1;33m:\u001b[0m\u001b[1;33m\u001b[0m\u001b[1;33m\u001b[0m\u001b[0m\n\u001b[1;32m--> 382\u001b[1;33m             \u001b[0mself\u001b[0m\u001b[1;33m.\u001b[0m\u001b[0m_validate_conn\u001b[0m\u001b[1;33m(\u001b[0m\u001b[0mconn\u001b[0m\u001b[1;33m)\u001b[0m\u001b[1;33m\u001b[0m\u001b[1;33m\u001b[0m\u001b[0m\n\u001b[0m\u001b[0;32m    383\u001b[0m         \u001b[1;32mexcept\u001b[0m \u001b[1;33m(\u001b[0m\u001b[0mSocketTimeout\u001b[0m\u001b[1;33m,\u001b[0m \u001b[0mBaseSSLError\u001b[0m\u001b[1;33m)\u001b[0m \u001b[1;32mas\u001b[0m \u001b[0me\u001b[0m\u001b[1;33m:\u001b[0m\u001b[1;33m\u001b[0m\u001b[1;33m\u001b[0m\u001b[0m\n",
      "\u001b[1;32m~\\Anaconda3\\lib\\site-packages\\urllib3\\connectionpool.py\u001b[0m in \u001b[0;36m_validate_conn\u001b[1;34m(self, conn)\u001b[0m\n\u001b[0;32m   1009\u001b[0m         \u001b[1;32mif\u001b[0m \u001b[1;32mnot\u001b[0m \u001b[0mgetattr\u001b[0m\u001b[1;33m(\u001b[0m\u001b[0mconn\u001b[0m\u001b[1;33m,\u001b[0m \u001b[1;34m\"sock\"\u001b[0m\u001b[1;33m,\u001b[0m \u001b[1;32mNone\u001b[0m\u001b[1;33m)\u001b[0m\u001b[1;33m:\u001b[0m  \u001b[1;31m# AppEngine might not have  `.sock`\u001b[0m\u001b[1;33m\u001b[0m\u001b[1;33m\u001b[0m\u001b[0m\n\u001b[1;32m-> 1010\u001b[1;33m             \u001b[0mconn\u001b[0m\u001b[1;33m.\u001b[0m\u001b[0mconnect\u001b[0m\u001b[1;33m(\u001b[0m\u001b[1;33m)\u001b[0m\u001b[1;33m\u001b[0m\u001b[1;33m\u001b[0m\u001b[0m\n\u001b[0m\u001b[0;32m   1011\u001b[0m \u001b[1;33m\u001b[0m\u001b[0m\n",
      "\u001b[1;32m~\\Anaconda3\\lib\\site-packages\\urllib3\\connection.py\u001b[0m in \u001b[0;36mconnect\u001b[1;34m(self)\u001b[0m\n\u001b[0;32m    357\u001b[0m         \u001b[1;31m# Add certificate verification\u001b[0m\u001b[1;33m\u001b[0m\u001b[1;33m\u001b[0m\u001b[0m\n\u001b[1;32m--> 358\u001b[1;33m         \u001b[0mconn\u001b[0m \u001b[1;33m=\u001b[0m \u001b[0mself\u001b[0m\u001b[1;33m.\u001b[0m\u001b[0m_new_conn\u001b[0m\u001b[1;33m(\u001b[0m\u001b[1;33m)\u001b[0m\u001b[1;33m\u001b[0m\u001b[1;33m\u001b[0m\u001b[0m\n\u001b[0m\u001b[0;32m    359\u001b[0m         \u001b[0mhostname\u001b[0m \u001b[1;33m=\u001b[0m \u001b[0mself\u001b[0m\u001b[1;33m.\u001b[0m\u001b[0mhost\u001b[0m\u001b[1;33m\u001b[0m\u001b[1;33m\u001b[0m\u001b[0m\n",
      "\u001b[1;32m~\\Anaconda3\\lib\\site-packages\\urllib3\\connection.py\u001b[0m in \u001b[0;36m_new_conn\u001b[1;34m(self)\u001b[0m\n\u001b[0;32m    185\u001b[0m         \u001b[1;32mexcept\u001b[0m \u001b[0mSocketError\u001b[0m \u001b[1;32mas\u001b[0m \u001b[0me\u001b[0m\u001b[1;33m:\u001b[0m\u001b[1;33m\u001b[0m\u001b[1;33m\u001b[0m\u001b[0m\n\u001b[1;32m--> 186\u001b[1;33m             raise NewConnectionError(\n\u001b[0m\u001b[0;32m    187\u001b[0m                 \u001b[0mself\u001b[0m\u001b[1;33m,\u001b[0m \u001b[1;34m\"Failed to establish a new connection: %s\"\u001b[0m \u001b[1;33m%\u001b[0m \u001b[0me\u001b[0m\u001b[1;33m\u001b[0m\u001b[1;33m\u001b[0m\u001b[0m\n",
      "\u001b[1;31mNewConnectionError\u001b[0m: <urllib3.connection.HTTPSConnection object at 0x0000017743702FD0>: Failed to establish a new connection: [Errno 11001] getaddrinfo failed",
      "\nDuring handling of the above exception, another exception occurred:\n",
      "\u001b[1;31mMaxRetryError\u001b[0m                             Traceback (most recent call last)",
      "\u001b[1;32m~\\Anaconda3\\lib\\site-packages\\requests\\adapters.py\u001b[0m in \u001b[0;36msend\u001b[1;34m(self, request, stream, timeout, verify, cert, proxies)\u001b[0m\n\u001b[0;32m    439\u001b[0m             \u001b[1;32mif\u001b[0m \u001b[1;32mnot\u001b[0m \u001b[0mchunked\u001b[0m\u001b[1;33m:\u001b[0m\u001b[1;33m\u001b[0m\u001b[1;33m\u001b[0m\u001b[0m\n\u001b[1;32m--> 440\u001b[1;33m                 resp = conn.urlopen(\n\u001b[0m\u001b[0;32m    441\u001b[0m                     \u001b[0mmethod\u001b[0m\u001b[1;33m=\u001b[0m\u001b[0mrequest\u001b[0m\u001b[1;33m.\u001b[0m\u001b[0mmethod\u001b[0m\u001b[1;33m,\u001b[0m\u001b[1;33m\u001b[0m\u001b[1;33m\u001b[0m\u001b[0m\n",
      "\u001b[1;32m~\\Anaconda3\\lib\\site-packages\\urllib3\\connectionpool.py\u001b[0m in \u001b[0;36murlopen\u001b[1;34m(self, method, url, body, headers, retries, redirect, assert_same_host, timeout, pool_timeout, release_conn, chunked, body_pos, **response_kw)\u001b[0m\n\u001b[0;32m    754\u001b[0m \u001b[1;33m\u001b[0m\u001b[0m\n\u001b[1;32m--> 755\u001b[1;33m             retries = retries.increment(\n\u001b[0m\u001b[0;32m    756\u001b[0m                 \u001b[0mmethod\u001b[0m\u001b[1;33m,\u001b[0m \u001b[0murl\u001b[0m\u001b[1;33m,\u001b[0m \u001b[0merror\u001b[0m\u001b[1;33m=\u001b[0m\u001b[0me\u001b[0m\u001b[1;33m,\u001b[0m \u001b[0m_pool\u001b[0m\u001b[1;33m=\u001b[0m\u001b[0mself\u001b[0m\u001b[1;33m,\u001b[0m \u001b[0m_stacktrace\u001b[0m\u001b[1;33m=\u001b[0m\u001b[0msys\u001b[0m\u001b[1;33m.\u001b[0m\u001b[0mexc_info\u001b[0m\u001b[1;33m(\u001b[0m\u001b[1;33m)\u001b[0m\u001b[1;33m[\u001b[0m\u001b[1;36m2\u001b[0m\u001b[1;33m]\u001b[0m\u001b[1;33m\u001b[0m\u001b[1;33m\u001b[0m\u001b[0m\n",
      "\u001b[1;32m~\\Anaconda3\\lib\\site-packages\\urllib3\\util\\retry.py\u001b[0m in \u001b[0;36mincrement\u001b[1;34m(self, method, url, response, error, _pool, _stacktrace)\u001b[0m\n\u001b[0;32m    573\u001b[0m         \u001b[1;32mif\u001b[0m \u001b[0mnew_retry\u001b[0m\u001b[1;33m.\u001b[0m\u001b[0mis_exhausted\u001b[0m\u001b[1;33m(\u001b[0m\u001b[1;33m)\u001b[0m\u001b[1;33m:\u001b[0m\u001b[1;33m\u001b[0m\u001b[1;33m\u001b[0m\u001b[0m\n\u001b[1;32m--> 574\u001b[1;33m             \u001b[1;32mraise\u001b[0m \u001b[0mMaxRetryError\u001b[0m\u001b[1;33m(\u001b[0m\u001b[0m_pool\u001b[0m\u001b[1;33m,\u001b[0m \u001b[0murl\u001b[0m\u001b[1;33m,\u001b[0m \u001b[0merror\u001b[0m \u001b[1;32mor\u001b[0m \u001b[0mResponseError\u001b[0m\u001b[1;33m(\u001b[0m\u001b[0mcause\u001b[0m\u001b[1;33m)\u001b[0m\u001b[1;33m)\u001b[0m\u001b[1;33m\u001b[0m\u001b[1;33m\u001b[0m\u001b[0m\n\u001b[0m\u001b[0;32m    575\u001b[0m \u001b[1;33m\u001b[0m\u001b[0m\n",
      "\u001b[1;31mMaxRetryError\u001b[0m: HTTPSConnectionPool(host='api.twitter.com', port=443): Max retries exceeded with url: /1.1/statuses/user_timeline.json?screen_name=wldhistoryfacts&count=1&include_rts=False (Caused by NewConnectionError('<urllib3.connection.HTTPSConnection object at 0x0000017743702FD0>: Failed to establish a new connection: [Errno 11001] getaddrinfo failed'))",
      "\nDuring handling of the above exception, another exception occurred:\n",
      "\u001b[1;31mConnectionError\u001b[0m                           Traceback (most recent call last)",
      "\u001b[1;32m~\\Anaconda3\\lib\\site-packages\\tweepy\\api.py\u001b[0m in \u001b[0;36mrequest\u001b[1;34m(self, method, endpoint, endpoint_parameters, params, headers, json_payload, parser, payload_list, payload_type, post_data, files, require_auth, return_cursors, upload_api, use_cache, **kwargs)\u001b[0m\n\u001b[0;32m    215\u001b[0m                 \u001b[1;32mtry\u001b[0m\u001b[1;33m:\u001b[0m\u001b[1;33m\u001b[0m\u001b[1;33m\u001b[0m\u001b[0m\n\u001b[1;32m--> 216\u001b[1;33m                     resp = self.session.request(\n\u001b[0m\u001b[0;32m    217\u001b[0m                         \u001b[0mmethod\u001b[0m\u001b[1;33m,\u001b[0m \u001b[0murl\u001b[0m\u001b[1;33m,\u001b[0m \u001b[0mparams\u001b[0m\u001b[1;33m=\u001b[0m\u001b[0mparams\u001b[0m\u001b[1;33m,\u001b[0m \u001b[0mheaders\u001b[0m\u001b[1;33m=\u001b[0m\u001b[0mheaders\u001b[0m\u001b[1;33m,\u001b[0m\u001b[1;33m\u001b[0m\u001b[1;33m\u001b[0m\u001b[0m\n",
      "\u001b[1;32m~\\Anaconda3\\lib\\site-packages\\requests\\sessions.py\u001b[0m in \u001b[0;36mrequest\u001b[1;34m(self, method, url, params, data, headers, cookies, files, auth, timeout, allow_redirects, proxies, hooks, stream, verify, cert, json)\u001b[0m\n\u001b[0;32m    528\u001b[0m         \u001b[0msend_kwargs\u001b[0m\u001b[1;33m.\u001b[0m\u001b[0mupdate\u001b[0m\u001b[1;33m(\u001b[0m\u001b[0msettings\u001b[0m\u001b[1;33m)\u001b[0m\u001b[1;33m\u001b[0m\u001b[1;33m\u001b[0m\u001b[0m\n\u001b[1;32m--> 529\u001b[1;33m         \u001b[0mresp\u001b[0m \u001b[1;33m=\u001b[0m \u001b[0mself\u001b[0m\u001b[1;33m.\u001b[0m\u001b[0msend\u001b[0m\u001b[1;33m(\u001b[0m\u001b[0mprep\u001b[0m\u001b[1;33m,\u001b[0m \u001b[1;33m**\u001b[0m\u001b[0msend_kwargs\u001b[0m\u001b[1;33m)\u001b[0m\u001b[1;33m\u001b[0m\u001b[1;33m\u001b[0m\u001b[0m\n\u001b[0m\u001b[0;32m    530\u001b[0m \u001b[1;33m\u001b[0m\u001b[0m\n",
      "\u001b[1;32m~\\Anaconda3\\lib\\site-packages\\requests\\sessions.py\u001b[0m in \u001b[0;36msend\u001b[1;34m(self, request, **kwargs)\u001b[0m\n\u001b[0;32m    644\u001b[0m         \u001b[1;31m# Send the request\u001b[0m\u001b[1;33m\u001b[0m\u001b[1;33m\u001b[0m\u001b[0m\n\u001b[1;32m--> 645\u001b[1;33m         \u001b[0mr\u001b[0m \u001b[1;33m=\u001b[0m \u001b[0madapter\u001b[0m\u001b[1;33m.\u001b[0m\u001b[0msend\u001b[0m\u001b[1;33m(\u001b[0m\u001b[0mrequest\u001b[0m\u001b[1;33m,\u001b[0m \u001b[1;33m**\u001b[0m\u001b[0mkwargs\u001b[0m\u001b[1;33m)\u001b[0m\u001b[1;33m\u001b[0m\u001b[1;33m\u001b[0m\u001b[0m\n\u001b[0m\u001b[0;32m    646\u001b[0m \u001b[1;33m\u001b[0m\u001b[0m\n",
      "\u001b[1;32m~\\Anaconda3\\lib\\site-packages\\requests\\adapters.py\u001b[0m in \u001b[0;36msend\u001b[1;34m(self, request, stream, timeout, verify, cert, proxies)\u001b[0m\n\u001b[0;32m    518\u001b[0m \u001b[1;33m\u001b[0m\u001b[0m\n\u001b[1;32m--> 519\u001b[1;33m             \u001b[1;32mraise\u001b[0m \u001b[0mConnectionError\u001b[0m\u001b[1;33m(\u001b[0m\u001b[0me\u001b[0m\u001b[1;33m,\u001b[0m \u001b[0mrequest\u001b[0m\u001b[1;33m=\u001b[0m\u001b[0mrequest\u001b[0m\u001b[1;33m)\u001b[0m\u001b[1;33m\u001b[0m\u001b[1;33m\u001b[0m\u001b[0m\n\u001b[0m\u001b[0;32m    520\u001b[0m \u001b[1;33m\u001b[0m\u001b[0m\n",
      "\u001b[1;31mConnectionError\u001b[0m: HTTPSConnectionPool(host='api.twitter.com', port=443): Max retries exceeded with url: /1.1/statuses/user_timeline.json?screen_name=wldhistoryfacts&count=1&include_rts=False (Caused by NewConnectionError('<urllib3.connection.HTTPSConnection object at 0x0000017743702FD0>: Failed to establish a new connection: [Errno 11001] getaddrinfo failed'))",
      "\nDuring handling of the above exception, another exception occurred:\n",
      "\u001b[1;31mTweepyException\u001b[0m                           Traceback (most recent call last)",
      "\u001b[1;32mC:\\Users\\AMOHED~1\\AppData\\Local\\Temp/ipykernel_16656/1745490505.py\u001b[0m in \u001b[0;36m<module>\u001b[1;34m\u001b[0m\n\u001b[1;32m----> 1\u001b[1;33m \u001b[0mtweets\u001b[0m\u001b[1;33m=\u001b[0m \u001b[0mapi\u001b[0m\u001b[1;33m.\u001b[0m\u001b[0muser_timeline\u001b[0m\u001b[1;33m(\u001b[0m\u001b[0mscreen_name\u001b[0m\u001b[1;33m=\u001b[0m\u001b[1;34m'wldhistoryfacts'\u001b[0m\u001b[1;33m,\u001b[0m\u001b[0mcount\u001b[0m\u001b[1;33m=\u001b[0m\u001b[1;36m1\u001b[0m\u001b[1;33m,\u001b[0m \u001b[0minclude_rts\u001b[0m\u001b[1;33m=\u001b[0m\u001b[1;32mFalse\u001b[0m\u001b[1;33m)\u001b[0m \u001b[1;31m#include_rts false to avoid retweets\u001b[0m\u001b[1;33m\u001b[0m\u001b[1;33m\u001b[0m\u001b[0m\n\u001b[0m",
      "\u001b[1;32m~\\Anaconda3\\lib\\site-packages\\tweepy\\api.py\u001b[0m in \u001b[0;36mwrapper\u001b[1;34m(*args, **kwargs)\u001b[0m\n\u001b[0;32m     31\u001b[0m         \u001b[1;33m@\u001b[0m\u001b[0mfunctools\u001b[0m\u001b[1;33m.\u001b[0m\u001b[0mwraps\u001b[0m\u001b[1;33m(\u001b[0m\u001b[0mmethod\u001b[0m\u001b[1;33m)\u001b[0m\u001b[1;33m\u001b[0m\u001b[1;33m\u001b[0m\u001b[0m\n\u001b[0;32m     32\u001b[0m         \u001b[1;32mdef\u001b[0m \u001b[0mwrapper\u001b[0m\u001b[1;33m(\u001b[0m\u001b[1;33m*\u001b[0m\u001b[0margs\u001b[0m\u001b[1;33m,\u001b[0m \u001b[1;33m**\u001b[0m\u001b[0mkwargs\u001b[0m\u001b[1;33m)\u001b[0m\u001b[1;33m:\u001b[0m\u001b[1;33m\u001b[0m\u001b[1;33m\u001b[0m\u001b[0m\n\u001b[1;32m---> 33\u001b[1;33m             \u001b[1;32mreturn\u001b[0m \u001b[0mmethod\u001b[0m\u001b[1;33m(\u001b[0m\u001b[1;33m*\u001b[0m\u001b[0margs\u001b[0m\u001b[1;33m,\u001b[0m \u001b[1;33m**\u001b[0m\u001b[0mkwargs\u001b[0m\u001b[1;33m)\u001b[0m\u001b[1;33m\u001b[0m\u001b[1;33m\u001b[0m\u001b[0m\n\u001b[0m\u001b[0;32m     34\u001b[0m         \u001b[0mwrapper\u001b[0m\u001b[1;33m.\u001b[0m\u001b[0mpagination_mode\u001b[0m \u001b[1;33m=\u001b[0m \u001b[0mmode\u001b[0m\u001b[1;33m\u001b[0m\u001b[1;33m\u001b[0m\u001b[0m\n\u001b[0;32m     35\u001b[0m         \u001b[1;32mreturn\u001b[0m \u001b[0mwrapper\u001b[0m\u001b[1;33m\u001b[0m\u001b[1;33m\u001b[0m\u001b[0m\n",
      "\u001b[1;32m~\\Anaconda3\\lib\\site-packages\\tweepy\\api.py\u001b[0m in \u001b[0;36mwrapper\u001b[1;34m(*args, **kwargs)\u001b[0m\n\u001b[0;32m     44\u001b[0m             \u001b[0mkwargs\u001b[0m\u001b[1;33m[\u001b[0m\u001b[1;34m'payload_list'\u001b[0m\u001b[1;33m]\u001b[0m \u001b[1;33m=\u001b[0m \u001b[0mpayload_list\u001b[0m\u001b[1;33m\u001b[0m\u001b[1;33m\u001b[0m\u001b[0m\n\u001b[0;32m     45\u001b[0m             \u001b[0mkwargs\u001b[0m\u001b[1;33m[\u001b[0m\u001b[1;34m'payload_type'\u001b[0m\u001b[1;33m]\u001b[0m \u001b[1;33m=\u001b[0m \u001b[0mpayload_type\u001b[0m\u001b[1;33m\u001b[0m\u001b[1;33m\u001b[0m\u001b[0m\n\u001b[1;32m---> 46\u001b[1;33m             \u001b[1;32mreturn\u001b[0m \u001b[0mmethod\u001b[0m\u001b[1;33m(\u001b[0m\u001b[1;33m*\u001b[0m\u001b[0margs\u001b[0m\u001b[1;33m,\u001b[0m \u001b[1;33m**\u001b[0m\u001b[0mkwargs\u001b[0m\u001b[1;33m)\u001b[0m\u001b[1;33m\u001b[0m\u001b[1;33m\u001b[0m\u001b[0m\n\u001b[0m\u001b[0;32m     47\u001b[0m         \u001b[0mwrapper\u001b[0m\u001b[1;33m.\u001b[0m\u001b[0mpayload_list\u001b[0m \u001b[1;33m=\u001b[0m \u001b[0mpayload_list\u001b[0m\u001b[1;33m\u001b[0m\u001b[1;33m\u001b[0m\u001b[0m\n\u001b[0;32m     48\u001b[0m         \u001b[0mwrapper\u001b[0m\u001b[1;33m.\u001b[0m\u001b[0mpayload_type\u001b[0m \u001b[1;33m=\u001b[0m \u001b[0mpayload_type\u001b[0m\u001b[1;33m\u001b[0m\u001b[1;33m\u001b[0m\u001b[0m\n",
      "\u001b[1;32m~\\Anaconda3\\lib\\site-packages\\tweepy\\api.py\u001b[0m in \u001b[0;36muser_timeline\u001b[1;34m(self, **kwargs)\u001b[0m\n\u001b[0;32m    569\u001b[0m         \u001b[0mhttps\u001b[0m\u001b[1;33m:\u001b[0m\u001b[1;33m//\u001b[0m\u001b[0mdeveloper\u001b[0m\u001b[1;33m.\u001b[0m\u001b[0mtwitter\u001b[0m\u001b[1;33m.\u001b[0m\u001b[0mcom\u001b[0m\u001b[1;33m/\u001b[0m\u001b[0men\u001b[0m\u001b[1;33m/\u001b[0m\u001b[0mdocs\u001b[0m\u001b[1;33m/\u001b[0m\u001b[0mtwitter\u001b[0m\u001b[1;33m-\u001b[0m\u001b[0mapi\u001b[0m\u001b[1;33m/\u001b[0m\u001b[0mv1\u001b[0m\u001b[1;33m/\u001b[0m\u001b[0mtweets\u001b[0m\u001b[1;33m/\u001b[0m\u001b[0mtimelines\u001b[0m\u001b[1;33m/\u001b[0m\u001b[0mapi\u001b[0m\u001b[1;33m-\u001b[0m\u001b[0mreference\u001b[0m\u001b[1;33m/\u001b[0m\u001b[0mget\u001b[0m\u001b[1;33m-\u001b[0m\u001b[0mstatuses\u001b[0m\u001b[1;33m-\u001b[0m\u001b[0muser_timeline\u001b[0m\u001b[1;33m\u001b[0m\u001b[1;33m\u001b[0m\u001b[0m\n\u001b[0;32m    570\u001b[0m         \"\"\"\n\u001b[1;32m--> 571\u001b[1;33m         return self.request(\n\u001b[0m\u001b[0;32m    572\u001b[0m             'GET', 'statuses/user_timeline', endpoint_parameters=(\n\u001b[0;32m    573\u001b[0m                 \u001b[1;34m'user_id'\u001b[0m\u001b[1;33m,\u001b[0m \u001b[1;34m'screen_name'\u001b[0m\u001b[1;33m,\u001b[0m \u001b[1;34m'since_id'\u001b[0m\u001b[1;33m,\u001b[0m \u001b[1;34m'count'\u001b[0m\u001b[1;33m,\u001b[0m \u001b[1;34m'max_id'\u001b[0m\u001b[1;33m,\u001b[0m\u001b[1;33m\u001b[0m\u001b[1;33m\u001b[0m\u001b[0m\n",
      "\u001b[1;32m~\\Anaconda3\\lib\\site-packages\\tweepy\\api.py\u001b[0m in \u001b[0;36mrequest\u001b[1;34m(self, method, endpoint, endpoint_parameters, params, headers, json_payload, parser, payload_list, payload_type, post_data, files, require_auth, return_cursors, upload_api, use_cache, **kwargs)\u001b[0m\n\u001b[0;32m    220\u001b[0m                     )\n\u001b[0;32m    221\u001b[0m                 \u001b[1;32mexcept\u001b[0m \u001b[0mException\u001b[0m \u001b[1;32mas\u001b[0m \u001b[0me\u001b[0m\u001b[1;33m:\u001b[0m\u001b[1;33m\u001b[0m\u001b[1;33m\u001b[0m\u001b[0m\n\u001b[1;32m--> 222\u001b[1;33m                     \u001b[1;32mraise\u001b[0m \u001b[0mTweepyException\u001b[0m\u001b[1;33m(\u001b[0m\u001b[1;34mf'Failed to send request: {e}'\u001b[0m\u001b[1;33m)\u001b[0m\u001b[1;33m.\u001b[0m\u001b[0mwith_traceback\u001b[0m\u001b[1;33m(\u001b[0m\u001b[0msys\u001b[0m\u001b[1;33m.\u001b[0m\u001b[0mexc_info\u001b[0m\u001b[1;33m(\u001b[0m\u001b[1;33m)\u001b[0m\u001b[1;33m[\u001b[0m\u001b[1;36m2\u001b[0m\u001b[1;33m]\u001b[0m\u001b[1;33m)\u001b[0m\u001b[1;33m\u001b[0m\u001b[1;33m\u001b[0m\u001b[0m\n\u001b[0m\u001b[0;32m    223\u001b[0m \u001b[1;33m\u001b[0m\u001b[0m\n\u001b[0;32m    224\u001b[0m                 \u001b[1;32mif\u001b[0m \u001b[1;36m200\u001b[0m \u001b[1;33m<=\u001b[0m \u001b[0mresp\u001b[0m\u001b[1;33m.\u001b[0m\u001b[0mstatus_code\u001b[0m \u001b[1;33m<\u001b[0m \u001b[1;36m300\u001b[0m\u001b[1;33m:\u001b[0m\u001b[1;33m\u001b[0m\u001b[1;33m\u001b[0m\u001b[0m\n",
      "\u001b[1;32m~\\Anaconda3\\lib\\site-packages\\tweepy\\api.py\u001b[0m in \u001b[0;36mrequest\u001b[1;34m(self, method, endpoint, endpoint_parameters, params, headers, json_payload, parser, payload_list, payload_type, post_data, files, require_auth, return_cursors, upload_api, use_cache, **kwargs)\u001b[0m\n\u001b[0;32m    214\u001b[0m                 \u001b[1;31m# Execute request\u001b[0m\u001b[1;33m\u001b[0m\u001b[1;33m\u001b[0m\u001b[0m\n\u001b[0;32m    215\u001b[0m                 \u001b[1;32mtry\u001b[0m\u001b[1;33m:\u001b[0m\u001b[1;33m\u001b[0m\u001b[1;33m\u001b[0m\u001b[0m\n\u001b[1;32m--> 216\u001b[1;33m                     resp = self.session.request(\n\u001b[0m\u001b[0;32m    217\u001b[0m                         \u001b[0mmethod\u001b[0m\u001b[1;33m,\u001b[0m \u001b[0murl\u001b[0m\u001b[1;33m,\u001b[0m \u001b[0mparams\u001b[0m\u001b[1;33m=\u001b[0m\u001b[0mparams\u001b[0m\u001b[1;33m,\u001b[0m \u001b[0mheaders\u001b[0m\u001b[1;33m=\u001b[0m\u001b[0mheaders\u001b[0m\u001b[1;33m,\u001b[0m\u001b[1;33m\u001b[0m\u001b[1;33m\u001b[0m\u001b[0m\n\u001b[0;32m    218\u001b[0m                         \u001b[0mdata\u001b[0m\u001b[1;33m=\u001b[0m\u001b[0mpost_data\u001b[0m\u001b[1;33m,\u001b[0m \u001b[0mfiles\u001b[0m\u001b[1;33m=\u001b[0m\u001b[0mfiles\u001b[0m\u001b[1;33m,\u001b[0m \u001b[0mjson\u001b[0m\u001b[1;33m=\u001b[0m\u001b[0mjson_payload\u001b[0m\u001b[1;33m,\u001b[0m\u001b[1;33m\u001b[0m\u001b[1;33m\u001b[0m\u001b[0m\n",
      "\u001b[1;32m~\\Anaconda3\\lib\\site-packages\\requests\\sessions.py\u001b[0m in \u001b[0;36mrequest\u001b[1;34m(self, method, url, params, data, headers, cookies, files, auth, timeout, allow_redirects, proxies, hooks, stream, verify, cert, json)\u001b[0m\n\u001b[0;32m    527\u001b[0m         }\n\u001b[0;32m    528\u001b[0m         \u001b[0msend_kwargs\u001b[0m\u001b[1;33m.\u001b[0m\u001b[0mupdate\u001b[0m\u001b[1;33m(\u001b[0m\u001b[0msettings\u001b[0m\u001b[1;33m)\u001b[0m\u001b[1;33m\u001b[0m\u001b[1;33m\u001b[0m\u001b[0m\n\u001b[1;32m--> 529\u001b[1;33m         \u001b[0mresp\u001b[0m \u001b[1;33m=\u001b[0m \u001b[0mself\u001b[0m\u001b[1;33m.\u001b[0m\u001b[0msend\u001b[0m\u001b[1;33m(\u001b[0m\u001b[0mprep\u001b[0m\u001b[1;33m,\u001b[0m \u001b[1;33m**\u001b[0m\u001b[0msend_kwargs\u001b[0m\u001b[1;33m)\u001b[0m\u001b[1;33m\u001b[0m\u001b[1;33m\u001b[0m\u001b[0m\n\u001b[0m\u001b[0;32m    530\u001b[0m \u001b[1;33m\u001b[0m\u001b[0m\n\u001b[0;32m    531\u001b[0m         \u001b[1;32mreturn\u001b[0m \u001b[0mresp\u001b[0m\u001b[1;33m\u001b[0m\u001b[1;33m\u001b[0m\u001b[0m\n",
      "\u001b[1;32m~\\Anaconda3\\lib\\site-packages\\requests\\sessions.py\u001b[0m in \u001b[0;36msend\u001b[1;34m(self, request, **kwargs)\u001b[0m\n\u001b[0;32m    643\u001b[0m \u001b[1;33m\u001b[0m\u001b[0m\n\u001b[0;32m    644\u001b[0m         \u001b[1;31m# Send the request\u001b[0m\u001b[1;33m\u001b[0m\u001b[1;33m\u001b[0m\u001b[0m\n\u001b[1;32m--> 645\u001b[1;33m         \u001b[0mr\u001b[0m \u001b[1;33m=\u001b[0m \u001b[0madapter\u001b[0m\u001b[1;33m.\u001b[0m\u001b[0msend\u001b[0m\u001b[1;33m(\u001b[0m\u001b[0mrequest\u001b[0m\u001b[1;33m,\u001b[0m \u001b[1;33m**\u001b[0m\u001b[0mkwargs\u001b[0m\u001b[1;33m)\u001b[0m\u001b[1;33m\u001b[0m\u001b[1;33m\u001b[0m\u001b[0m\n\u001b[0m\u001b[0;32m    646\u001b[0m \u001b[1;33m\u001b[0m\u001b[0m\n\u001b[0;32m    647\u001b[0m         \u001b[1;31m# Total elapsed time of the request (approximately)\u001b[0m\u001b[1;33m\u001b[0m\u001b[1;33m\u001b[0m\u001b[0m\n",
      "\u001b[1;32m~\\Anaconda3\\lib\\site-packages\\requests\\adapters.py\u001b[0m in \u001b[0;36msend\u001b[1;34m(self, request, stream, timeout, verify, cert, proxies)\u001b[0m\n\u001b[0;32m    517\u001b[0m                 \u001b[1;32mraise\u001b[0m \u001b[0mSSLError\u001b[0m\u001b[1;33m(\u001b[0m\u001b[0me\u001b[0m\u001b[1;33m,\u001b[0m \u001b[0mrequest\u001b[0m\u001b[1;33m=\u001b[0m\u001b[0mrequest\u001b[0m\u001b[1;33m)\u001b[0m\u001b[1;33m\u001b[0m\u001b[1;33m\u001b[0m\u001b[0m\n\u001b[0;32m    518\u001b[0m \u001b[1;33m\u001b[0m\u001b[0m\n\u001b[1;32m--> 519\u001b[1;33m             \u001b[1;32mraise\u001b[0m \u001b[0mConnectionError\u001b[0m\u001b[1;33m(\u001b[0m\u001b[0me\u001b[0m\u001b[1;33m,\u001b[0m \u001b[0mrequest\u001b[0m\u001b[1;33m=\u001b[0m\u001b[0mrequest\u001b[0m\u001b[1;33m)\u001b[0m\u001b[1;33m\u001b[0m\u001b[1;33m\u001b[0m\u001b[0m\n\u001b[0m\u001b[0;32m    520\u001b[0m \u001b[1;33m\u001b[0m\u001b[0m\n\u001b[0;32m    521\u001b[0m         \u001b[1;32mexcept\u001b[0m \u001b[0mClosedPoolError\u001b[0m \u001b[1;32mas\u001b[0m \u001b[0me\u001b[0m\u001b[1;33m:\u001b[0m\u001b[1;33m\u001b[0m\u001b[1;33m\u001b[0m\u001b[0m\n",
      "\u001b[1;31mTweepyException\u001b[0m: Failed to send request: HTTPSConnectionPool(host='api.twitter.com', port=443): Max retries exceeded with url: /1.1/statuses/user_timeline.json?screen_name=wldhistoryfacts&count=1&include_rts=False (Caused by NewConnectionError('<urllib3.connection.HTTPSConnection object at 0x0000017743702FD0>: Failed to establish a new connection: [Errno 11001] getaddrinfo failed'))"
     ]
    }
   ],
   "source": [
    "tweets= api.user_timeline(screen_name='wldhistoryfacts',count=1, include_rts=False) #include_rts false to avoid retweets"
   ]
  },
  {
   "cell_type": "code",
   "execution_count": 8,
   "id": "589392df",
   "metadata": {},
   "outputs": [
    {
     "ename": "NameError",
     "evalue": "name 'tweets' is not defined",
     "output_type": "error",
     "traceback": [
      "\u001b[1;31m---------------------------------------------------------------------------\u001b[0m",
      "\u001b[1;31mNameError\u001b[0m                                 Traceback (most recent call last)",
      "\u001b[1;32mC:\\Users\\AMOHED~1\\AppData\\Local\\Temp/ipykernel_16656/206954816.py\u001b[0m in \u001b[0;36m<module>\u001b[1;34m\u001b[0m\n\u001b[1;32m----> 1\u001b[1;33m \u001b[0mtweets\u001b[0m\u001b[1;33m=\u001b[0m\u001b[1;33m[\u001b[0m\u001b[0mtweet\u001b[0m\u001b[1;33m.\u001b[0m\u001b[0mtext\u001b[0m \u001b[1;32mfor\u001b[0m \u001b[0mtweet\u001b[0m \u001b[1;32min\u001b[0m \u001b[0mtweets\u001b[0m\u001b[1;33m]\u001b[0m\u001b[1;33m\u001b[0m\u001b[1;33m\u001b[0m\u001b[0m\n\u001b[0m\u001b[0;32m      2\u001b[0m \u001b[1;31m#tweets\u001b[0m\u001b[1;33m\u001b[0m\u001b[1;33m\u001b[0m\u001b[0m\n",
      "\u001b[1;31mNameError\u001b[0m: name 'tweets' is not defined"
     ]
    }
   ],
   "source": [
    "tweets=[tweet.text for tweet in tweets]\n",
    "#tweets"
   ]
  },
  {
   "cell_type": "code",
   "execution_count": 6,
   "id": "2597e4eb",
   "metadata": {},
   "outputs": [
    {
     "name": "stdout",
     "output_type": "stream",
     "text": [
      "A drum with the insignia of Augustus II, king of Poland between 1697-1706 and 1709-1733 (he briefly had to give up… https://t.co/JP6Ioc8Orp\n"
     ]
    }
   ],
   "source": [
    "history_tweet=random.choice(tweets)\n",
    "print(history_tweet)"
   ]
  },
  {
   "cell_type": "markdown",
   "id": "624461ab",
   "metadata": {},
   "source": [
    "Art & Literature"
   ]
  },
  {
   "cell_type": "code",
   "execution_count": 7,
   "id": "dcdb1dc0",
   "metadata": {},
   "outputs": [],
   "source": [
    "tweets_literature= api.user_timeline(screen_name='literature', count=1, include_rts=False)"
   ]
  },
  {
   "cell_type": "code",
   "execution_count": 8,
   "id": "d51d740c",
   "metadata": {},
   "outputs": [],
   "source": [
    "tweets_literature_list=[tweet.text for tweet in tweets_literature]\n",
    "#tweets_literature_list"
   ]
  },
  {
   "cell_type": "code",
   "execution_count": 9,
   "id": "b9684a92",
   "metadata": {},
   "outputs": [
    {
     "name": "stdout",
     "output_type": "stream",
     "text": [
      "Read the Books That Schools Want to Ban\n",
      "\n",
      "These 14 titles have been under attack for doing exactly what literature i… https://t.co/Mxbtct1xBy\n"
     ]
    }
   ],
   "source": [
    "literature_tweet=random.choice(tweets_literature_list)\n",
    "print(literature_tweet)"
   ]
  },
  {
   "cell_type": "markdown",
   "id": "4a9162ca",
   "metadata": {},
   "source": [
    "Science & Nature"
   ]
  },
  {
   "cell_type": "code",
   "execution_count": 10,
   "id": "e177e6ba",
   "metadata": {},
   "outputs": [],
   "source": [
    "tweets_science= api.user_timeline(screen_name='ScienceIsNew', count=1, include_rts=False)"
   ]
  },
  {
   "cell_type": "code",
   "execution_count": 11,
   "id": "c7e17f52",
   "metadata": {},
   "outputs": [],
   "source": [
    "tweets_science_list=[tweet.text for tweet in tweets_science]\n",
    "#tweets_science_list"
   ]
  },
  {
   "cell_type": "code",
   "execution_count": 12,
   "id": "68eed616",
   "metadata": {},
   "outputs": [
    {
     "name": "stdout",
     "output_type": "stream",
     "text": [
      "This is something you just don’t see everyday… 🤯\n",
      "⁠\n",
      "The Giant Trevally has the ability to calculate the flight traje… https://t.co/i5WULtSHDb\n"
     ]
    }
   ],
   "source": [
    "science_tweet=random.choice(tweets_science_list)\n",
    "print(science_tweet)"
   ]
  },
  {
   "cell_type": "markdown",
   "id": "c6d4e2a9",
   "metadata": {},
   "source": [
    "Geography"
   ]
  },
  {
   "cell_type": "code",
   "execution_count": 13,
   "id": "b81c964d",
   "metadata": {},
   "outputs": [],
   "source": [
    "tweets_geo= api.user_timeline(screen_name='GeographyRealm', count=1, include_rts=False)"
   ]
  },
  {
   "cell_type": "code",
   "execution_count": 14,
   "id": "29351889",
   "metadata": {},
   "outputs": [],
   "source": [
    "tweets_geo_list=[tweet.text for tweet in tweets_geo]\n",
    "#tweets_geo_list"
   ]
  },
  {
   "cell_type": "code",
   "execution_count": 15,
   "id": "b31e8c00",
   "metadata": {},
   "outputs": [
    {
     "name": "stdout",
     "output_type": "stream",
     "text": [
      "First Maps\n",
      "\n",
      "#geography #cartography #maps \n",
      " https://t.co/OQm5n6sdMP https://t.co/PTpmiaZ3v1\n"
     ]
    }
   ],
   "source": [
    "geo_tweet=random.choice(tweets_geo_list)\n",
    "print(geo_tweet)"
   ]
  },
  {
   "cell_type": "markdown",
   "id": "b39f2f61",
   "metadata": {},
   "source": [
    "Sports & Leisure"
   ]
  },
  {
   "cell_type": "code",
   "execution_count": 16,
   "id": "3a3baf96",
   "metadata": {},
   "outputs": [],
   "source": [
    "tweets_sports= api.user_timeline(screen_name='guardian_sport', count=1, include_rts=False)"
   ]
  },
  {
   "cell_type": "code",
   "execution_count": 17,
   "id": "44791b16",
   "metadata": {},
   "outputs": [],
   "source": [
    "tweets_sports_list=[tweet.text for tweet in tweets_sports]\n",
    "#tweets_sports_list"
   ]
  },
  {
   "cell_type": "code",
   "execution_count": 18,
   "id": "07faa413",
   "metadata": {},
   "outputs": [
    {
     "name": "stdout",
     "output_type": "stream",
     "text": [
      "European roundup: Atlético beat Real Madrid to boost Champions League hopes https://t.co/ugHrCRGJmT\n"
     ]
    }
   ],
   "source": [
    "sports_tweet=random.choice(tweets_sports_list)\n",
    "print(sports_tweet)"
   ]
  },
  {
   "cell_type": "markdown",
   "id": "827599c0",
   "metadata": {},
   "source": [
    "# Interesting facts - quick readings (option 6)"
   ]
  },
  {
   "cell_type": "code",
   "execution_count": 19,
   "id": "091add3c",
   "metadata": {},
   "outputs": [],
   "source": [
    "tweets_interesting= api.user_timeline(screen_name='iFacts', count=1, include_rts=False)"
   ]
  },
  {
   "cell_type": "code",
   "execution_count": 20,
   "id": "3a8f68f1",
   "metadata": {},
   "outputs": [],
   "source": [
    "tweets_interesting_list=[tweet.text for tweet in tweets_interesting]\n",
    "#tweets_interesting_list"
   ]
  },
  {
   "cell_type": "code",
   "execution_count": 21,
   "id": "60a3ec62",
   "metadata": {},
   "outputs": [
    {
     "name": "stdout",
     "output_type": "stream",
     "text": [
      "When you think about starting a new job, the usual activities might come to mind. You can follow many different car… https://t.co/7EsRDsxA9B\n"
     ]
    }
   ],
   "source": [
    "interesting_tweet=random.choice(tweets_interesting_list)\n",
    "print(interesting_tweet)"
   ]
  },
  {
   "cell_type": "markdown",
   "id": "9ed66226",
   "metadata": {},
   "source": [
    "# Motivation quote - quick readings (option 6)"
   ]
  },
  {
   "cell_type": "code",
   "execution_count": 22,
   "id": "a535173e",
   "metadata": {},
   "outputs": [],
   "source": [
    "url= 'https://api.goprogram.ai/inspiration'"
   ]
  },
  {
   "cell_type": "code",
   "execution_count": 23,
   "id": "8749f1d5",
   "metadata": {},
   "outputs": [],
   "source": [
    "request= requests.get(url)"
   ]
  },
  {
   "cell_type": "code",
   "execution_count": 24,
   "id": "d7f9bd09",
   "metadata": {},
   "outputs": [],
   "source": [
    "quote=request.json()"
   ]
  },
  {
   "cell_type": "code",
   "execution_count": 25,
   "id": "279843c1",
   "metadata": {},
   "outputs": [],
   "source": [
    "quote_of_the_day=\"'\"+quote['quote']+\"'\"+' Author: '+quote['author']"
   ]
  },
  {
   "cell_type": "code",
   "execution_count": 26,
   "id": "a338017d",
   "metadata": {},
   "outputs": [],
   "source": [
    "#print(quote_of_the_day)"
   ]
  },
  {
   "cell_type": "markdown",
   "id": "43c4e98a",
   "metadata": {},
   "source": [
    "# Life hack - quick readings (option 6)"
   ]
  },
  {
   "cell_type": "code",
   "execution_count": 27,
   "id": "78b0b457",
   "metadata": {},
   "outputs": [
    {
     "data": {
      "text/plain": [
       "<Response [200]>"
      ]
     },
     "execution_count": 27,
     "metadata": {},
     "output_type": "execute_result"
    }
   ],
   "source": [
    "url2= 'https://generatorfun.com/life-hack-generator'\n",
    "response_life_hack=requests.get(url2)\n",
    "response_life_hack"
   ]
  },
  {
   "cell_type": "code",
   "execution_count": 28,
   "id": "21fb8918",
   "metadata": {},
   "outputs": [],
   "source": [
    "#response_life_hack.content"
   ]
  },
  {
   "cell_type": "code",
   "execution_count": 29,
   "id": "d07e1656",
   "metadata": {},
   "outputs": [],
   "source": [
    "soup1 = BeautifulSoup(response_life_hack.content)"
   ]
  },
  {
   "cell_type": "code",
   "execution_count": 30,
   "id": "84a08b4b",
   "metadata": {},
   "outputs": [],
   "source": [
    "hacks= soup1.find_all('p')"
   ]
  },
  {
   "cell_type": "code",
   "execution_count": 31,
   "id": "4ac628da",
   "metadata": {},
   "outputs": [],
   "source": [
    "hack=hacks[7]\n",
    "#hack"
   ]
  },
  {
   "cell_type": "code",
   "execution_count": 32,
   "id": "c483c8ea",
   "metadata": {},
   "outputs": [],
   "source": [
    "#lets save the data as a list\n",
    "\n",
    "data_hack = []\n",
    "\n",
    "for hack in hacks[7:17]:\n",
    "  #print(hack)\n",
    "  #time.sleep(5)\n",
    "  try:\n",
    "    response_life_hack=requests.get(url)\n",
    "    soup2 = BeautifulSoup(response_life_hack.content)\n",
    "\n",
    "    # get the price\n",
    "    alba=hack.string\n",
    "    \n",
    "    data_hack.append(alba)\n",
    "  except :\n",
    "    pass"
   ]
  },
  {
   "cell_type": "code",
   "execution_count": 33,
   "id": "8e3de291",
   "metadata": {},
   "outputs": [],
   "source": [
    "#data_hack"
   ]
  },
  {
   "cell_type": "code",
   "execution_count": 34,
   "id": "c1779210",
   "metadata": {},
   "outputs": [],
   "source": [
    "data_hack_clean=[]\n",
    "\n",
    "for string in data_hack:\n",
    "    new_string= string.replace(\"\\xa0\",\"\").replace(\"\\n\",\"\").replace(\"\\xa0\\n\",\"\").replace(\"â\\x80\\x9c\",\"\").replace(\"â\\x80\\x9d\\n\",\"\").replace(\"â\\x80\\x9d\",\"\").replace(\"1.\",\"\").replace(\"2.\",\"\").replace(\"3.\",\"\").replace(\"4.\",\"\").replace(\"5.\",\"\").replace(\"6.\",\"\").replace(\"7.\",\"\").replace(\"8.\",\"\").replace(\"9.\",\"\").replace(\"10.\",\"\")\n",
    "    data_hack_clean.append(new_string)\n",
    "\n",
    "#data_hack_clean"
   ]
  },
  {
   "cell_type": "code",
   "execution_count": 35,
   "id": "0eec1682",
   "metadata": {},
   "outputs": [],
   "source": [
    "hack_of_the_day=random.choice(data_hack_clean)\n",
    "#print(hack_of_the_day)"
   ]
  },
  {
   "cell_type": "markdown",
   "id": "616f14a7",
   "metadata": {},
   "source": [
    "# Films based on IMDB ranking - quick readings (option 6)"
   ]
  },
  {
   "cell_type": "code",
   "execution_count": 36,
   "id": "a1e769d9",
   "metadata": {},
   "outputs": [],
   "source": [
    "# This is the url to scrape\n",
    "url3 = 'https://www.imdb.com/chart/top'\n",
    "\n",
    "response=requests.get(url3)\n",
    "\n",
    "#print the content from the webpage\n",
    "#response.content"
   ]
  },
  {
   "cell_type": "code",
   "execution_count": 37,
   "id": "37099ca0",
   "metadata": {},
   "outputs": [],
   "source": [
    "soup3= BeautifulSoup(response.content)\n",
    "\n",
    "#after using control+shift+i in the webpage and finding a pattern:\n",
    "movies_info= soup3.find_all('td',attrs={'class':'titleColumn'})\n",
    "#movies_info"
   ]
  },
  {
   "cell_type": "code",
   "execution_count": 38,
   "id": "37a4526f",
   "metadata": {},
   "outputs": [],
   "source": [
    "movie = movies_info[0]\n",
    "#movie"
   ]
  },
  {
   "cell_type": "code",
   "execution_count": 39,
   "id": "c5622b49",
   "metadata": {},
   "outputs": [],
   "source": [
    "#movie name\n",
    "movie_name=movie.a.string\n",
    "#movie_name"
   ]
  },
  {
   "cell_type": "code",
   "execution_count": 40,
   "id": "ebabe671",
   "metadata": {},
   "outputs": [],
   "source": [
    "#initial release\n",
    "initial_release=movie.span.string\n",
    "#initial_release"
   ]
  },
  {
   "cell_type": "code",
   "execution_count": 41,
   "id": "48825650",
   "metadata": {},
   "outputs": [],
   "source": [
    "#director and main actors\n",
    "movie_dir=movie.a['title']\n",
    "#movie_dir"
   ]
  },
  {
   "cell_type": "code",
   "execution_count": 42,
   "id": "276a777d",
   "metadata": {},
   "outputs": [],
   "source": [
    "#stars\n",
    "movies_stars= soup3.find_all('td',attrs={'class':'ratingColumn imdbRating'})\n",
    "#movies_stars\n",
    "\n",
    "\n",
    "stars = movies_stars[0]\n",
    "#stars\n",
    "\n",
    "stars_rating=stars.strong.string\n",
    "#stars_rating"
   ]
  },
  {
   "cell_type": "code",
   "execution_count": 43,
   "id": "3eb76748",
   "metadata": {},
   "outputs": [],
   "source": [
    "#import time\n",
    "\n",
    "data = []\n",
    "\n",
    "for movie in movies_info:\n",
    "  #print(movie)\n",
    "    #time.sleep(5)\n",
    "  try:\n",
    "\n",
    "    # get the movie_name\n",
    "    movie_name=movie.a.string\n",
    "\n",
    "    # get the initial_release\n",
    "    initial_release=movie.span.string\n",
    "    \n",
    "    # get the director and main actors\n",
    "    movie_dir=movie.a['title']\n",
    "    \n",
    "    for stars in movies_stars:\n",
    "            \n",
    "        #get the stars\n",
    "        stars_rating=stars.strong.string\n",
    "    \n",
    "    data.append({'movie title' : movie_name, 'initial release' : initial_release, 'director and main actors': movie_dir, 'stars':stars_rating})\n",
    "  except :\n",
    "    pass"
   ]
  },
  {
   "cell_type": "code",
   "execution_count": 44,
   "id": "8f52d89f",
   "metadata": {},
   "outputs": [],
   "source": [
    "#data"
   ]
  },
  {
   "cell_type": "code",
   "execution_count": 45,
   "id": "672dcb57",
   "metadata": {},
   "outputs": [],
   "source": [
    "top250=pd.DataFrame(data)\n",
    "#top250"
   ]
  },
  {
   "cell_type": "code",
   "execution_count": 46,
   "id": "6baa4a11",
   "metadata": {},
   "outputs": [],
   "source": [
    "#generating a random recommendation:\n",
    "\n",
    "film_of_the_day= top250.sample(n=None, frac=None, replace=False, weights=None, random_state=None)\n",
    "#film_of_the_day"
   ]
  },
  {
   "cell_type": "code",
   "execution_count": 47,
   "id": "3928f606",
   "metadata": {},
   "outputs": [],
   "source": [
    "#print title\n",
    "film_of_the_day_title=film_of_the_day.iloc[0]['movie title']\n",
    "#print(film_of_the_day_title)\n",
    "\n",
    "#print release\n",
    "film_of_the_day_release=film_of_the_day.iloc[0]['initial release']\n",
    "film_of_the_day_release_clean=film_of_the_day_release.replace('(',\"\").replace(')',\"\")\n",
    "#print(film_of_the_day_release_clean)\n",
    "\n",
    "#print director and actors\n",
    "film_of_the_day_director=film_of_the_day.iloc[0]['director and main actors']\n",
    "#print(film_of_the_day_director)\n",
    "\n",
    "#print stars\n",
    "film_of_the_day_stars=film_of_the_day.iloc[0]['stars']\n",
    "#print(film_of_the_day_stars)"
   ]
  },
  {
   "cell_type": "code",
   "execution_count": 48,
   "id": "2ed2ea31",
   "metadata": {},
   "outputs": [],
   "source": [
    "#print('Title: '+film_of_the_day_title+'\\n'+'Initital release: '+film_of_the_day_release_clean+'\\n'+'Director and main actors: '+film_of_the_day_director+'\\n'+'Stars: '+film_of_the_day_stars)"
   ]
  },
  {
   "cell_type": "markdown",
   "id": "20dd6f39",
   "metadata": {},
   "source": [
    "# Wikipedia - Long readings"
   ]
  },
  {
   "cell_type": "markdown",
   "id": "cebac997",
   "metadata": {},
   "source": [
    "History"
   ]
  },
  {
   "cell_type": "code",
   "execution_count": 49,
   "id": "addc6c9d",
   "metadata": {},
   "outputs": [
    {
     "data": {
      "text/plain": [
       "<Response [200]>"
      ]
     },
     "execution_count": 49,
     "metadata": {},
     "output_type": "execute_result"
    }
   ],
   "source": [
    "url = \"https://en.wikipedia.org/wiki/Herodotus\"\n",
    "\n",
    "response_long_1 = requests.get(url)\n",
    "response_long_1"
   ]
  },
  {
   "cell_type": "code",
   "execution_count": 50,
   "id": "b7ea4cb9",
   "metadata": {},
   "outputs": [],
   "source": [
    "response_long_1.content\n",
    "soup4 = BeautifulSoup(response_long_1.content)\n",
    "#print(soup4.prettify())"
   ]
  },
  {
   "cell_type": "code",
   "execution_count": 51,
   "id": "3dd13cbb",
   "metadata": {},
   "outputs": [
    {
     "data": {
      "text/plain": [
       "[<p class=\"mw-empty-elt\">\n",
       " </p>,\n",
       " <p><b>Herodotus</b> (<span class=\"rt-commentedText nowrap\"><span class=\"IPA nopopups noexcerpt\"><a href=\"/wiki/Help:IPA/English\" title=\"Help:IPA/English\">/<span style=\"border-bottom:1px dotted\"><span title=\"'h' in 'hi'\">h</span><span title=\"/ɪ/: 'i' in 'kit'\">ɪ</span><span title=\"/ˈ/: primary stress follows\">ˈ</span><span title=\"'r' in 'rye'\">r</span><span title=\"/ɒ/: 'o' in 'body'\">ɒ</span><span title=\"'d' in 'dye'\">d</span><span title=\"/ə/: 'a' in 'about'\">ə</span><span title=\"'t' in 'tie'\">t</span><span title=\"/ə/: 'a' in 'about'\">ə</span><span title=\"'s' in 'sigh'\">s</span></span>/</a></span></span> <a href=\"/wiki/Help:Pronunciation_respelling_key\" title=\"Help:Pronunciation respelling key\"><i title=\"English pronunciation respelling\">hirr-<span style=\"font-size:90%\">OD</span>-ə-təs</i></a>; <a href=\"/wiki/Greek_language\" title=\"Greek language\">Greek</a>: <span title=\"Ancient Greek (to 1453)-language text\"><span lang=\"grc\"><a class=\"extiw\" href=\"https://en.wiktionary.org/wiki/%E1%BC%A9%CF%81%CF%8C%CE%B4%CE%BF%CF%84%CE%BF%CF%82\" title=\"wikt:Ἡρόδοτος\">Ἡρόδοτος</a></span></span> <span title=\"Ancient Greek (to 1453)-language romanization\"><i lang=\"grc-Latn\">Hēródotos</i></span>; <abbr title=\"circa\">c.</abbr><span style=\"white-space:nowrap;\"> 484</span> – c.<span style=\"white-space:nowrap;\"> 425</span> BC) was an <a href=\"/wiki/Classical_Greece\" title=\"Classical Greece\">ancient Greek</a> <a href=\"/wiki/Historian\" title=\"Historian\">historian</a> and <a href=\"/wiki/Geographer\" title=\"Geographer\">geographer</a> from the <a href=\"/wiki/List_of_ancient_Greek_cities\" title=\"List of ancient Greek cities\">Greek city</a> of <a href=\"/wiki/Halicarnassus\" title=\"Halicarnassus\">Halicarnassus</a>, part of the <a href=\"/wiki/Achaemenid_Empire\" title=\"Achaemenid Empire\">Persian Empire</a> (now <a href=\"/wiki/Bodrum\" title=\"Bodrum\">Bodrum</a>, <a href=\"/wiki/Turkey\" title=\"Turkey\">Turkey</a>). He is known for having written the <i><a href=\"/wiki/Histories_(Herodotus)\" title=\"Histories (Herodotus)\">Histories</a></i> – a detailed account of the <a href=\"/wiki/Greco-Persian_Wars\" title=\"Greco-Persian Wars\">Greco-Persian Wars</a>. Herodotus was the first writer to perform <a href=\"/wiki/Scientific_method\" title=\"Scientific method\">systematic investigation</a> of historical events. He is referred to as \"<a href=\"/wiki/List_of_people_considered_father_or_mother_of_a_scientific_field#Social_sciences\" title=\"List of people considered father or mother of a scientific field\">The Father of History</a>\", a title conferred on him by the <a href=\"/wiki/Ancient_Rome\" title=\"Ancient Rome\">ancient Roman</a> orator <a href=\"/wiki/Cicero\" title=\"Cicero\">Cicero</a>.<sup class=\"reference\" id=\"cite_ref-1\"><a href=\"#cite_note-1\">[1]</a></sup><sup class=\"reference\" id=\"cite_ref-2\"><a href=\"#cite_note-2\">[2]</a></sup>\n",
       " </p>,\n",
       " <p>The <i>Histories</i> primarily cover the lives of prominent kings and famous <a href=\"/wiki/Battle\" title=\"Battle\">battles</a> such as <a href=\"/wiki/Battle_of_Marathon\" title=\"Battle of Marathon\">Marathon</a>, <a href=\"/wiki/Battle_of_Thermopylae\" title=\"Battle of Thermopylae\">Thermopylae</a>, <a href=\"/wiki/Battle_of_Artemisium\" title=\"Battle of Artemisium\">Artemisium</a>, <a href=\"/wiki/Battle_of_Salamis\" title=\"Battle of Salamis\">Salamis</a>, <a href=\"/wiki/Battle_of_Plataea\" title=\"Battle of Plataea\">Plataea</a>, and <a href=\"/wiki/Battle_of_Mycale\" title=\"Battle of Mycale\">Mycale</a>. His work deviates from the main topics to provide a cultural, <a href=\"/wiki/Ethnography\" title=\"Ethnography\">ethnographical</a>, <a href=\"/wiki/Geography\" title=\"Geography\">geographical</a>, and <a href=\"/wiki/Historiography\" title=\"Historiography\">historiographical</a> background that forms an essential part of the narrative and provides readers with a wellspring of additional information. \n",
       " </p>,\n",
       " <p>Herodotus has been <a class=\"mw-redirect mw-disambig\" href=\"/wiki/Criticize_(disambiguation)\" title=\"Criticize (disambiguation)\">criticized</a> for his inclusion of \"legends and fanciful accounts\" in his work. The fellow historian <a href=\"/wiki/Thucydides\" title=\"Thucydides\">Thucydides</a> accused him of making up stories for entertainment. However, Herodotus explained that he reported what he \"saw and [what was] told to him\".<sup class=\"noprint Inline-Template Template-Fact\" style=\"white-space:nowrap;\">[<i><a href=\"/wiki/Wikipedia:Citation_needed\" title=\"Wikipedia:Citation needed\"><span title=\"This claim needs references to reliable sources. (May 2022)\">citation needed</span></a></i>]</sup> A sizable portion of the <i>Histories</i> has since been confirmed by <a class=\"mw-redirect\" href=\"/wiki/Modern_historian\" title=\"Modern historian\">modern historians</a> and <a class=\"mw-redirect\" href=\"/wiki/Archaeologists\" title=\"Archaeologists\">archaeologists</a>.\n",
       " </p>,\n",
       " <p>Modern scholars generally turn to Herodotus's own writing for reliable information about his life,<sup class=\"reference\" id=\"cite_ref-Burn-1972-Herod-Hists_3-0\"><a href=\"#cite_note-Burn-1972-Herod-Hists-3\">[3]</a></sup><sup class=\"reference nowrap\"><span title=\"Page: 7\">: 7 </span></sup> supplemented with ancient yet much later sources, such as the <a href=\"/wiki/Byzantine_Empire\" title=\"Byzantine Empire\">Byzantine</a> <i><a href=\"/wiki/Suda\" title=\"Suda\">Suda</a></i>, an 11th-century encyclopedia which possibly took its information from traditional accounts.  Still, the challenge is great:\n",
       " </p>,\n",
       " <p>The data are so few – they rest upon such late and slight authority; they are so improbable or so contradictory, that to compile them into a biography is like building a house of cards, which the first breath of criticism will blow to the ground. Still, certain points may be approximately fixed ...</p>,\n",
       " <p>It is generally accepted that Herodotus was born at <a href=\"/wiki/Halicarnassus\" title=\"Halicarnassus\">Halicarnassus</a> in <a href=\"/wiki/Anatolia\" title=\"Anatolia\">Anatolia</a> around 485 BC. The <i>Suda</i> describes his family as influential, and that he was the son of Lyxes and Dryo, and the brother of Theodorus, and that he was also related to <a href=\"/wiki/Panyassis\" title=\"Panyassis\">Panyassis</a> – an epic poet of the time.<sup class=\"reference\" id=\"cite_ref-Rawlinson-1859-Hist-Herod-v1_4-1\"><a href=\"#cite_note-Rawlinson-1859-Hist-Herod-v1-4\">[4]</a></sup><sup class=\"reference nowrap\"><span title=\"Location: Introduction\">: Introduction </span></sup><sup class=\"reference\" id=\"cite_ref-Burn-1972-Herod-Hists_3-1\"><a href=\"#cite_note-Burn-1972-Herod-Hists-3\">[3]</a></sup><sup class=\"reference nowrap\"><span title=\"Location: Introduction\">: Introduction </span></sup>\n",
       " </p>,\n",
       " <p>Halicarnassus was within the <a href=\"/wiki/Achaemenid_Empire\" title=\"Achaemenid Empire\">Persian Empire</a> at that time, making Herodotus a Persian subject,<sup class=\"reference\" id=\"cite_ref-5\"><a href=\"#cite_note-5\">[5]</a></sup><sup class=\"reference\" id=\"cite_ref-6\"><a href=\"#cite_note-6\">[6]</a></sup> and it may be that the young Herodotus heard local eyewitness accounts of events within the empire and of Persian preparations for the <a href=\"/wiki/List_of_wars_involving_Greece\" title=\"List of wars involving Greece\">invasion of Greece</a>, including the movements of the local fleet under the command of <a href=\"/wiki/Artemisia_I_of_Caria\" title=\"Artemisia I of Caria\">Artemisia I of Caria</a>.\n",
       " </p>,\n",
       " <p>Inscriptions recently discovered at Halicarnassus indicate that Artemesia's grandson <a href=\"/wiki/Lygdamis_II_of_Halicarnassus\" title=\"Lygdamis II of Halicarnassus\">Lygdamis</a> negotiated with a local assembly to settle disputes over seized property, which is consistent with a tyrant under pressure. His name is not mentioned later in the tribute list of the Athenian <a href=\"/wiki/Delian_League\" title=\"Delian League\">Delian League</a>, indicating that there might well have been a successful uprising against him sometime before 454 BC.\n",
       " </p>,\n",
       " <p>Herodotus wrote his <i>Histories</i> in the <a href=\"/wiki/Ionic_Greek\" title=\"Ionic Greek\">Ionian dialect</a>, in spite of being born in a <a href=\"/wiki/Dorians\" title=\"Dorians\">Dorian</a> settlement. According to the <i><a href=\"/wiki/Suda\" title=\"Suda\">Suda</a></i>, Herodotus learned the Ionian dialect as a boy living on the island of Samos, to which he had fled with his family from the oppressions of Lygdamis, tyrant of Halicarnassus and grandson of Artemisia. <a href=\"/wiki/Panyassis\" title=\"Panyassis\">Panyassis</a>, the epic poet related to Herodotus, is reported to have taken part in a failed uprising.\n",
       " </p>,\n",
       " <p>The <i>Suda</i> also informs us that Herodotus later returned home to lead the revolt that eventually overthrew the tyrant. Due to recent discoveries of inscriptions at Halicarnassus dated to about Herodotus's time, we now know that the Ionic dialect was used in Halicarnassus in some official documents, so there is no need to assume (like the <i>Suda</i>) that he must have learned the dialect elsewhere.<sup class=\"reference\" id=\"cite_ref-Burn-1972-Herod-Hists_3-2\"><a href=\"#cite_note-Burn-1972-Herod-Hists-3\">[3]</a></sup><sup class=\"reference nowrap\"><span title=\"Page: 11\">: 11 </span></sup> The <i>Suda</i> is the only source placing Herodotus as the heroic liberator of his birthplace, casting doubt upon the veracity of that romantic account.<sup class=\"reference\" id=\"cite_ref-Rawlinson-1859-Hist-Herod-v1_4-2\"><a href=\"#cite_note-Rawlinson-1859-Hist-Herod-v1-4\">[4]</a></sup><sup class=\"reference nowrap\"><span title=\"Page: 11\">: 11 </span></sup>\n",
       " </p>,\n",
       " <p>As Herodotus himself reveals, Halicarnassus, though a Dorian city, had ended its close relations with its Dorian neighbours after an unseemly quarrel (I, 144),<sup class=\"noprint Inline-Template\" style=\"margin-left:0.1em; white-space:nowrap;\">[<i><a href=\"/wiki/Wikipedia:Please_clarify\" title=\"Wikipedia:Please clarify\"><span title=\"The text near this tag may need clarification or removal of jargon. (April 2022)\">clarification needed</span></a></i>]</sup> and it had helped pioneer Greek trade with Egypt (II, 178). It was, therefore, an outward-looking, international-minded port within the <a class=\"mw-redirect\" href=\"/wiki/Persian_Empire\" title=\"Persian Empire\">Persian Empire</a>, and the historian's family could well have had contacts in other countries under Persian rule, facilitating his travels and his researches.\n",
       " </p>,\n",
       " <p>Herodotus's eyewitness accounts indicate that he traveled in Egypt in association with Athenians, probably sometime after 454 BC or possibly earlier, after an Athenian fleet had assisted the uprising against <a href=\"/wiki/History_of_Persian_Egypt\" title=\"History of Persian Egypt\">Persian rule</a> in 460–454 BC. He probably traveled to <a href=\"/wiki/Tyre,_Lebanon\" title=\"Tyre, Lebanon\">Tyre</a> next and then down the <a href=\"/wiki/Euphrates\" title=\"Euphrates\">Euphrates</a> to <a href=\"/wiki/Babylon\" title=\"Babylon\">Babylon</a>. For some reason, possibly associated with local politics, he subsequently found himself unpopular in Halicarnassus, and sometime around 447 BC, migrated to <a href=\"/wiki/Pericles\" title=\"Pericles\">Periclean Athens</a> – a city whose people and democratic institutions he openly admired (V, 78). Athens was also the place where he came to know the local topography (VI, 137; VIII, 52–55), as well as leading citizens such as the <a class=\"mw-redirect\" href=\"/wiki/Alcmaeonids\" title=\"Alcmaeonids\">Alcmaeonids</a>, a clan whose history features frequently in his writing.\n",
       " </p>,\n",
       " <p>According to <a href=\"/wiki/Eusebius\" title=\"Eusebius\">Eusebius</a><sup class=\"reference\" id=\"cite_ref-7\"><a href=\"#cite_note-7\">[7]</a></sup> and <a href=\"/wiki/Plutarch\" title=\"Plutarch\">Plutarch</a>,<sup class=\"reference\" id=\"cite_ref-8\"><a href=\"#cite_note-8\">[8]</a></sup> Herodotus was granted a financial reward by the Athenian assembly in recognition of his work. Plutarch, using <a href=\"/wiki/Diyllus\" title=\"Diyllus\">Diyllus</a> as a source, says this was 10 <a href=\"/wiki/Attic_talent\" title=\"Attic talent\">talents</a>.<sup class=\"reference\" id=\"cite_ref-9\"><a href=\"#cite_note-9\">[9]</a></sup>\n",
       " </p>,\n",
       " <p>In 443 BC or shortly afterwards, he migrated to <a class=\"mw-redirect\" href=\"/wiki/Thurium\" title=\"Thurium\">Thurium</a>, in modern <a href=\"/wiki/Calabria\" title=\"Calabria\">Calabria</a>, as part of an Athenian-sponsored <a href=\"/wiki/Greek_colonisation\" title=\"Greek colonisation\">colony</a>. <a href=\"/wiki/Aristotle\" title=\"Aristotle\">Aristotle</a> refers to a version of <i>The Histories</i> written by \"Herodotus of Thurium\", and some passages in the <i>Histories</i> have been interpreted as proof that he wrote about <a href=\"/wiki/Magna_Graecia\" title=\"Magna Graecia\">southern Italy</a> from personal experience there (IV, 15,99; VI, 127). Intimate knowledge of some events in the first years of the <a href=\"/wiki/Peloponnesian_War\" title=\"Peloponnesian War\">Peloponnesian War</a> (VI, 91; VII, 133, 233; IX, 73) indicate that he might have returned to Athens, in which case it is possible that he died there during an outbreak of the plague. Possibly he died in <a href=\"/wiki/Macedonia_(ancient_kingdom)\" title=\"Macedonia (ancient kingdom)\">Macedonia</a> instead, after obtaining the patronage of the court there; or else he died back in Thurium. There is nothing in the <i>Histories</i> that can be dated to later than 430 BC with any certainty, and it is generally assumed that he died not long afterwards, possibly before his sixtieth year.\n",
       " </p>,\n",
       " <p>Herodotus would have made his researches known to the larger world through oral recitations to a public crowd. John Marincola writes in his introduction to the Penguin edition of <i><a href=\"/wiki/Histories_(Herodotus)\" title=\"Histories (Herodotus)\">The Histories</a></i> that there are certain identifiable pieces in the early books of Herodotus's work which could be labeled as \"performance pieces\". These portions of the research seem independent and \"almost detachable\", so that they might have been set aside by the author for the purposes of an oral performance. The intellectual matrix of the 5th century, Marincola suggests, comprised many oral performances in which philosophers would dramatically recite such detachable pieces of their work. The idea was to criticize previous arguments on a topic and emphatically and enthusiastically insert their own in order to win over the audience.<sup class=\"reference\" id=\"cite_ref-10\"><a href=\"#cite_note-10\">[10]</a></sup>\n",
       " </p>,\n",
       " <p>It was conventional in Herodotus's day for authors to \"publish\" their works by reciting them at popular festivals. According to <a href=\"/wiki/Lucian\" title=\"Lucian\">Lucian</a>, Herodotus took his finished work straight from <a href=\"/wiki/Anatolia\" title=\"Anatolia\">Anatolia</a> to the <a href=\"/wiki/Ancient_Olympic_Games\" title=\"Ancient Olympic Games\">Olympic Games</a> and read the entire <i>Histories</i> to the assembled spectators in one sitting, receiving rapturous applause at the end of it.<sup class=\"reference\" id=\"cite_ref-Rawlinson-1859-Hist-Herod-v1_4-5\"><a href=\"#cite_note-Rawlinson-1859-Hist-Herod-v1-4\">[4]</a></sup><sup class=\"reference nowrap\"><span title=\"Page: 14\">: 14 </span></sup> According to a very different account by an ancient grammarian,<sup class=\"reference\" id=\"cite_ref-11\"><a href=\"#cite_note-11\">[11]</a></sup> Herodotus refused to begin reading his work at the festival of Olympia until some clouds offered him a bit of shade – by which time the assembly had dispersed. (Hence the proverbial expression \"Herodotus and his shade\" to describe someone who misses an opportunity through delay.) Herodotus's recitation at Olympia was a favourite theme among ancient writers, and there is another interesting variation on the story to be found in the <i>Suda</i>: that of <a href=\"/wiki/Bibliotheca_(Photius)\" title=\"Bibliotheca (Photius)\">Photius</a><sup class=\"reference\" id=\"cite_ref-12\"><a href=\"#cite_note-12\">[12]</a></sup>\n",
       " and <a class=\"mw-redirect\" href=\"/wiki/Tzetzes\" title=\"Tzetzes\">Tzetzes</a>,<sup class=\"reference\" id=\"cite_ref-13\"><a href=\"#cite_note-13\">[13]</a></sup>\n",
       " in which a young <a href=\"/wiki/Thucydides\" title=\"Thucydides\">Thucydides</a> happened to be in the assembly with his father, and burst into tears during the recital. Herodotus observed prophetically to the boy's father, \"Your son's soul yearns for knowledge.\"\n",
       " </p>,\n",
       " <p>Eventually, Thucydides and Herodotus became close enough for both to be interred in Thucydides' tomb in Athens. Such at least was the opinion of <a href=\"/wiki/Marcellinus_(writer)\" title=\"Marcellinus (writer)\">Marcellinus</a> in his <i>Life of Thucydides</i>.<sup class=\"reference\" id=\"cite_ref-14\"><a href=\"#cite_note-14\">[14]</a></sup> According to the <i>Suda</i>, he was buried in Macedonian <a href=\"/wiki/Pella\" title=\"Pella\">Pella</a> and in the <a href=\"/wiki/Agora\" title=\"Agora\">agora</a> in <a class=\"mw-redirect\" href=\"/wiki/Thurium\" title=\"Thurium\">Thurium</a>.<sup class=\"reference\" id=\"cite_ref-Rawlinson-1859-Hist-Herod-v1_4-10\"><a href=\"#cite_note-Rawlinson-1859-Hist-Herod-v1-4\">[4]</a></sup><sup class=\"reference nowrap\"><span title=\"Page: 25\">: 25 </span></sup>\n",
       " </p>,\n",
       " <p>Herodotus announced the purpose and scope of his work at the beginning of his <i>Histories:</i><sup class=\"reference\" id=\"cite_ref-15\"><a href=\"#cite_note-15\">[a]</a></sup><sup class=\"reference\" id=\"cite_ref-Hetrod-in-Encyc-Wrld-Bio_16-0\"><a href=\"#cite_note-Hetrod-in-Encyc-Wrld-Bio-16\">[15]</a></sup>\n",
       " </p>,\n",
       " <p>Here are presented the results of the inquiry carried out by Herodotus of Halicarnassus. The purpose is to prevent the traces of human events from being erased by time, and to preserve the fame of the important and remarkable achievements produced by both Greeks and non-Greeks; among the matters covered is, in particular, the cause of the hostilities between Greeks and non-Greeks.</p>,\n",
       " <p>His record of the achievements of others was an achievement in itself, though the extent of it has been debated. Herodotus' place in history and his significance may be understood according to the traditions within which he worked. His work is the earliest Greek prose to have survived intact. However, <a href=\"/wiki/Dionysius_of_Halicarnassus\" title=\"Dionysius of Halicarnassus\">Dionysius of Halicarnassus</a>, a literary critic of <a href=\"/wiki/Principate\" title=\"Principate\">Augustan Rome</a>, listed seven predecessors of Herodotus, describing their works as simple, unadorned accounts of their own and other cities and people, Greek or foreign, including popular legends, sometimes melodramatic and naïve, often charming – all traits that can be found in the work of Herodotus himself.<sup class=\"reference\" id=\"cite_ref-18\"><a href=\"#cite_note-18\">[17]</a></sup>\n",
       " </p>,\n",
       " <p>Modern historians regard the chronology as uncertain, but according to the ancient account, these predecessors included <a href=\"/wiki/Dionysius_of_Miletus\" title=\"Dionysius of Miletus\">Dionysius of Miletus</a>, Charon of Lampsacus, <a href=\"/wiki/Hellanicus_of_Lesbos\" title=\"Hellanicus of Lesbos\">Hellanicus of Lesbos</a>, <a class=\"mw-redirect\" href=\"/wiki/Xanthus_of_Lydia\" title=\"Xanthus of Lydia\">Xanthus of Lydia</a> and, the best attested of them all, <a href=\"/wiki/Hecataeus_of_Miletus\" title=\"Hecataeus of Miletus\">Hecataeus of Miletus</a>. Of these, only fragments of Hecataeus's works survived, and the authenticity of these is debatable,<sup class=\"reference\" id=\"cite_ref-Burn-1972-Herod-Hists_3-4\"><a href=\"#cite_note-Burn-1972-Herod-Hists-3\">[3]</a></sup><sup class=\"reference nowrap\"><span title=\"Page: 27\">: 27 </span></sup> but they provide a glimpse into the kind of tradition within which Herodotus wrote his own <i>Histories</i>.\n",
       " </p>,\n",
       " <p>It is on account of the many strange stories and the folk-tales he reported that his critics have branded him \"The Father of Lies\".<sup class=\"reference\" id=\"cite_ref-Burn-1972-Herod-Hists_3-5\"><a href=\"#cite_note-Burn-1972-Herod-Hists-3\">[3]</a></sup><sup class=\"reference nowrap\"><span title=\"Page: 10\">: 10 </span></sup><sup class=\"reference\" id=\"cite_ref-19\"><a href=\"#cite_note-19\">[18]</a></sup> Even his own contemporaries found reason to scoff at his achievement. In fact, one modern scholar<sup class=\"reference\" id=\"cite_ref-Rawlinson-1859-Hist-Herod-v1_4-11\"><a href=\"#cite_note-Rawlinson-1859-Hist-Herod-v1-4\">[4]</a></sup> has wondered if Herodotus left his home in Greek <a href=\"/wiki/Anatolia\" title=\"Anatolia\">Anatolia</a>, migrating westwards to Athens and beyond, because his own countrymen had ridiculed his work, a circumstance possibly hinted at in an epitaph said to have been dedicated to Herodotus at one of his three supposed resting places, <a class=\"mw-redirect\" href=\"/wiki/Thuria,_Messenia\" title=\"Thuria, Messenia\">Thuria</a>:\n",
       " </p>,\n",
       " <p>Herodotus the son of Sphynx<br/>\n",
       " lies; in Ionic history without peer;<br/>\n",
       " a Dorian born, who fled from slander's brand<br/>\n",
       " and made in Thuria his new native land.<sup class=\"reference\" id=\"cite_ref-Burn-1972-Herod-Hists_3-6\"><a href=\"#cite_note-Burn-1972-Herod-Hists-3\">[3]</a></sup><sup class=\"reference nowrap\"><span title=\"Page: 13\">: 13 </span></sup>\n",
       " </p>,\n",
       " <p>Yet it was in Athens where his most formidable contemporary critics could be found. In 425 BC, which is about the time that Herodotus is thought by many scholars to have died, the Athenian comic dramatist <a href=\"/wiki/Aristophanes\" title=\"Aristophanes\">Aristophanes</a> created <i><a href=\"/wiki/The_Acharnians\" title=\"The Acharnians\">The Acharnians</a></i>, in which he blames the <a href=\"/wiki/Peloponnesian_War\" title=\"Peloponnesian War\">Peloponnesian War</a> on the abduction of some prostitutes – a mocking reference to Herodotus, who reported the Persians' account of their <a class=\"mw-redirect\" href=\"/wiki/The_Persian_Wars\" title=\"The Persian Wars\">wars with Greece</a>, beginning with the rapes of the mythical heroines <a href=\"/wiki/Io_(mythology)\" title=\"Io (mythology)\">Io</a>, <a href=\"/wiki/Europa_(consort_of_Zeus)\" title=\"Europa (consort of Zeus)\">Europa</a>, <a href=\"/wiki/Medea\" title=\"Medea\">Medea</a>, and <a href=\"/wiki/Helen_of_Troy\" title=\"Helen of Troy\">Helen</a>.<sup class=\"reference\" id=\"cite_ref-20\"><a href=\"#cite_note-20\">[19]</a></sup><sup class=\"reference\" id=\"cite_ref-21\"><a href=\"#cite_note-21\">[20]</a></sup>\n",
       " </p>,\n",
       " <p>Similarly, the Athenian historian <a href=\"/wiki/Thucydides\" title=\"Thucydides\">Thucydides</a> dismissed Herodotus as a \"<i><a href=\"/wiki/Logos\" title=\"Logos\">logos</a></i>-writer\" (story-teller).<sup class=\"reference\" id=\"cite_ref-Murray-1986-Grk-histns_22-0\"><a href=\"#cite_note-Murray-1986-Grk-histns-22\">[21]</a></sup><sup class=\"reference nowrap\"><span title=\"Page: 191\">: 191 </span></sup> Thucydides, who had been trained in <a href=\"/wiki/Rhetoric\" title=\"Rhetoric\">rhetoric</a>, became the model for subsequent prose-writers as an author who seeks to appear firmly in control of his material, whereas with his frequent digressions Herodotus appeared to minimize (or possibly disguise) his authorial control.<sup class=\"reference\" id=\"cite_ref-Waterfield-Dewald-1998_17-1\"><a href=\"#cite_note-Waterfield-Dewald-1998-17\">[16]</a></sup> Moreover, Thucydides developed a historical topic more in keeping with the Greek world-view: focused on the context of the <i><a href=\"/wiki/Polis\" title=\"Polis\">polis</a></i> or city-state. The interplay of civilizations was more relevant to Greeks living in Anatolia, such as Herodotus himself, for whom life within a foreign civilization was a recent memory.<sup class=\"reference\" id=\"cite_ref-Murray-1986-Grk-histns_22-1\"><a href=\"#cite_note-Murray-1986-Grk-histns-22\">[21]</a></sup><sup class=\"reference nowrap\"><span title=\"Page: 191\">: 191 </span></sup>\n",
       " </p>,\n",
       " <p>Before the Persian crisis, history had been represented among the Greeks only by local or family traditions. The \"Wars of Liberation\" had given to Herodotus the first genuinely historical inspiration felt by a Greek. These wars showed him that there was a corporate life, higher than that of the city, of which the story might be told; and they offered to him as a subject the drama of the collision between East and West. With him, the spirit of history was born into Greece; and his work, called after the nine Muses, was indeed the first utterance of <a href=\"/wiki/Clio\" title=\"Clio\">Clio</a>.</p>,\n",
       " <p>Several English translations of <i>The Histories of Herodotus</i> are readily available in multiple editions. The most readily available are those translated by:\n",
       " </p>]"
      ]
     },
     "execution_count": 51,
     "metadata": {},
     "output_type": "execute_result"
    }
   ],
   "source": [
    "paragraphs_long_his = soup4.find_all('p')\n",
    "paragraphs_long_his"
   ]
  },
  {
   "cell_type": "code",
   "execution_count": 52,
   "id": "e016eb5b",
   "metadata": {},
   "outputs": [],
   "source": [
    "#for paragraph_his in paragraphs_long_his:\n",
    "  #print(paragraph_his.text)"
   ]
  },
  {
   "cell_type": "markdown",
   "id": "37a8c4cd",
   "metadata": {},
   "source": [
    "Art & Literature"
   ]
  },
  {
   "cell_type": "code",
   "execution_count": 53,
   "id": "3c2459f4",
   "metadata": {},
   "outputs": [
    {
     "data": {
      "text/plain": [
       "<Response [200]>"
      ]
     },
     "execution_count": 53,
     "metadata": {},
     "output_type": "execute_result"
    }
   ],
   "source": [
    "url = \"https://en.wikipedia.org/wiki/Olga_Tokarczuk\"\n",
    "\n",
    "response_long_2 = requests.get(url)\n",
    "response_long_2"
   ]
  },
  {
   "cell_type": "code",
   "execution_count": 54,
   "id": "39035bab",
   "metadata": {},
   "outputs": [],
   "source": [
    "response_long_2.content\n",
    "soup5 = BeautifulSoup(response_long_2.content)\n",
    "#print(soup5.prettify())"
   ]
  },
  {
   "cell_type": "code",
   "execution_count": 55,
   "id": "0faf19db",
   "metadata": {},
   "outputs": [],
   "source": [
    "paragraphs_long_art = soup5.find_all('p')\n",
    "#paragraphs_long_art"
   ]
  },
  {
   "cell_type": "code",
   "execution_count": 56,
   "id": "d4c615d0",
   "metadata": {},
   "outputs": [],
   "source": [
    "#for paragraph_art in paragraphs_long_art:\n",
    "  #print(paragraph_art.text)"
   ]
  },
  {
   "cell_type": "markdown",
   "id": "7c69b130",
   "metadata": {},
   "source": [
    "Science & Nature"
   ]
  },
  {
   "cell_type": "code",
   "execution_count": 57,
   "id": "6f06ae59",
   "metadata": {},
   "outputs": [
    {
     "data": {
      "text/plain": [
       "<Response [200]>"
      ]
     },
     "execution_count": 57,
     "metadata": {},
     "output_type": "execute_result"
    }
   ],
   "source": [
    "url = \"https://en.wikipedia.org/wiki/Gregor_Mendel\"\n",
    "\n",
    "response_long_3 = requests.get(url)\n",
    "response_long_3"
   ]
  },
  {
   "cell_type": "code",
   "execution_count": 58,
   "id": "4ef2206e",
   "metadata": {},
   "outputs": [],
   "source": [
    "response_long_3.content\n",
    "soup6 = BeautifulSoup(response_long_3.content)\n",
    "#print(soup6.prettify())"
   ]
  },
  {
   "cell_type": "code",
   "execution_count": 59,
   "id": "ee2b1820",
   "metadata": {},
   "outputs": [],
   "source": [
    "paragraphs_long_science = soup6.find_all('p')\n",
    "#paragraphs_long_science"
   ]
  },
  {
   "cell_type": "code",
   "execution_count": 60,
   "id": "8fbddb25",
   "metadata": {},
   "outputs": [],
   "source": [
    "#for paragraph_science in paragraphs_long_science:\n",
    "  #print(paragraph_science.text)"
   ]
  },
  {
   "cell_type": "markdown",
   "id": "6f40e4e6",
   "metadata": {},
   "source": [
    "Geography"
   ]
  },
  {
   "cell_type": "code",
   "execution_count": 61,
   "id": "4c2ffc35",
   "metadata": {},
   "outputs": [
    {
     "data": {
      "text/plain": [
       "<Response [200]>"
      ]
     },
     "execution_count": 61,
     "metadata": {},
     "output_type": "execute_result"
    }
   ],
   "source": [
    "url = \"https://en.wikipedia.org/wiki/George_Davidson_(geographer)\"\n",
    "\n",
    "response_long_4 = requests.get(url)\n",
    "response_long_4"
   ]
  },
  {
   "cell_type": "code",
   "execution_count": 62,
   "id": "328cc8ef",
   "metadata": {},
   "outputs": [],
   "source": [
    "#response_long_4.content"
   ]
  },
  {
   "cell_type": "code",
   "execution_count": 63,
   "id": "2a62278a",
   "metadata": {},
   "outputs": [],
   "source": [
    "soup7 = BeautifulSoup(response_long_4.content)"
   ]
  },
  {
   "cell_type": "code",
   "execution_count": 64,
   "id": "9e323b4d",
   "metadata": {},
   "outputs": [],
   "source": [
    "#print(soup7.prettify())"
   ]
  },
  {
   "cell_type": "code",
   "execution_count": 65,
   "id": "d8e3cf69",
   "metadata": {},
   "outputs": [],
   "source": [
    "paragraphs_long_geo = soup7.find_all('p')\n",
    "#paragraphs_long_geo"
   ]
  },
  {
   "cell_type": "code",
   "execution_count": 66,
   "id": "bdc7961c",
   "metadata": {},
   "outputs": [],
   "source": [
    "#for paragraph_geogrpahy in paragraphs_long_geo:\n",
    "  #print(paragraph_geogrpahy.text)  "
   ]
  },
  {
   "cell_type": "markdown",
   "id": "80f38209",
   "metadata": {},
   "source": [
    "Sports & Leisure"
   ]
  },
  {
   "cell_type": "code",
   "execution_count": 67,
   "id": "a3eaaa79",
   "metadata": {},
   "outputs": [
    {
     "data": {
      "text/plain": [
       "<Response [200]>"
      ]
     },
     "execution_count": 67,
     "metadata": {},
     "output_type": "execute_result"
    }
   ],
   "source": [
    "url = \"https://en.wikipedia.org/wiki/Lin_Dan\"\n",
    "\n",
    "response_long_5 = requests.get(url)\n",
    "response_long_5"
   ]
  },
  {
   "cell_type": "code",
   "execution_count": 68,
   "id": "10f719c5",
   "metadata": {},
   "outputs": [],
   "source": [
    "#response_long_5.content"
   ]
  },
  {
   "cell_type": "code",
   "execution_count": 69,
   "id": "57f743c0",
   "metadata": {},
   "outputs": [],
   "source": [
    "soup8 = BeautifulSoup(response_long_5.content)\n",
    "#print(soup8.prettify())"
   ]
  },
  {
   "cell_type": "code",
   "execution_count": 70,
   "id": "84279455",
   "metadata": {},
   "outputs": [],
   "source": [
    "paragraphs_long_sports = soup8.find_all('p')\n",
    "#paragraphs_long_sports"
   ]
  },
  {
   "cell_type": "code",
   "execution_count": 71,
   "id": "3c82e4c8",
   "metadata": {},
   "outputs": [],
   "source": [
    "#for paragraph_sports in paragraphs_long_sports:\n",
    "  #print(paragraph_sports.text)  "
   ]
  },
  {
   "cell_type": "markdown",
   "id": "3bb0a5c8",
   "metadata": {},
   "source": [
    "# YouTube API - Long and short videos"
   ]
  },
  {
   "cell_type": "code",
   "execution_count": 72,
   "id": "501d925c",
   "metadata": {},
   "outputs": [],
   "source": [
    "# Enter API key\n",
    "#youtube_key = getpass.getpass()"
   ]
  },
  {
   "cell_type": "code",
   "execution_count": 73,
   "id": "aaf05e11",
   "metadata": {},
   "outputs": [],
   "source": [
    "# Active connection to the API\n",
    "#yt = YouTubeDataAPI(youtube_key)"
   ]
  },
  {
   "cell_type": "code",
   "execution_count": 75,
   "id": "9d935273",
   "metadata": {},
   "outputs": [],
   "source": [
    "# youtube playlists for each category (with the last version of the dictionaries)\n",
    "\n",
    "youtube_playlists_short_dict = {1:[\"PLu2xst_eS6dqH2kKdjFssGjw3pspOCw-c\",\"PLu2xst_eS6dqH2kKdjFssGjw3pspOCw-c\",\"PLu2xst_eS6drM9tm6H6_OV93asCRgCIon\",\"PLu2xst_eS6dqU8XD3_M0T-awAqdYaIYQb\",\"PLu2xst_eS6druLUaz4d290aAowzbTX7GW\",\"PLu2xst_eS6doD4SE0Jt3NIkk3KrSSJ3yp\"],\n",
    "                                2:[\"PL1ldNWcTlKZv2GWv3hn7n8w2JnmQddKM9\",\"PL1ldNWcTlKZtO1mhp_gSeeGyzYIyB11Ul\",\"PL1ldNWcTlKZtNLgXsbp4PNulBPYbVYjju\",\"PL1ldNWcTlKZtnxopl7NNxGY0TgoldAP9I\",\"PLvb2y26xK6Y7T1kriLPnD1TVe8K2_9pta\",\"PLvb2y26xK6Y5fL_MDdSOB8FlqNGkLKSWb\"],\n",
    "                                3:[\"PL_8hVmWnP_O0a7pXibNt2suP-bchApg6x\",\"PL908547EAA7E4AE74\",\"PLFs4vir_WsTwEd-nJgVJCZPNL3HALHHpF\",\"PLFs4vir_WsTySi9F8v5pvCi6zQj7Cwneu\",\"PLFs4vir_WsTyY31efyHdmtp9l7DpR0Wvi\",\"PLFs4vir_WsTyXrrpFstD64Qj95vpy-yo1\",\"PLsNB4peY6C6JDvN7B__KTV0ik1JfSVbVp\",\"PLL8_5VpX9TxoTSDbbyRn8HRd7BX_1BubT\",\"PLivjPDlt6ApRpidjp1zjROOCKru-89Q1_\"],\n",
    "                                4:[\"PLR7XO54Pktt8_jNjAVaunw1EqqcEAdcow\",\"PLtra-MWzIvZG_fYlr17eqU54cVyjKx_i-\",\"PLOdAiwGfM8geTbqFaBgGLDeLkTI9Q9vYF\",\"PLOdAiwGfM8geTbqFaBgGLDeLkTI9Q9vYF\",\"PLOdAiwGfM8geP3vNhMpwFfwI_P6hNKSf4\",\"PL_8hVmWnP_O2EkT_3QxqaCv_eSjMfrrIa\",\"PL_8hVmWnP_O258ZS4-HKumKTfX7f72LHA\",\"PL_8hVmWnP_O1glnItkzvPqvxF3MbV1-23\",\"PLyXor-IbFvGTMakrbZ6MoCaR4WSxDIw0K\",\"PLyXor-IbFvGRNuMPVG4N8Ub_T6XyVXgDq\"],                                \n",
    "                                5:[\"PLKDaTw-BrxyqMZ8dbUyEzztf_kCZYYwad\",\"PLlqI96GMwNGE-IpVUcXeSfQlS6VAGMO0Q\"]}\n",
    "\n",
    "youtube_playlists_long_dict = {1:[\"PLu2xst_eS6dopJ0CW4eLPXnlPu6AvK4Tw\",\"PLjgZr0v9DXyIdl3ogFs_QuVDiXpCdEZ9e\",\"PLjgZr0v9DXyIzKkX3BFjali3LymBqvNiL\",\"PLjgZr0v9DXyKz4WcJ1C1xbEKTjdLDBLZO\"],\n",
    "                               2:[\"PLjBkTEtM_Tw_cQi2PXrD9zSdFFsr4NQ5U\",\"PL5JqSuIvtmAMRUxxdcoro4uyN7LAbaQXJ\",\"PL5JqSuIvtmAMFmxJcr-v-9iTl4RY6nN5s\",\"PL5JqSuIvtmAPuuNP9FUmhJxsB0eIx7_nv\"],\n",
    "                               3:[\"PLydZ2Hrp_gPS1DRwFcowNTRNR1B9QbPm3\",\"PLNxd9fYeqXea4N3q7_Au1eovEWdQj1KJK\",\"PLeCPQtbuJaPvJpqDGlgJWAp8YV2lO7s6v\"],\n",
    "                               4:[\"PLz58QJ68R9CSw5YUr1oAjD9dXDj8qbkRw\"],\n",
    "                               5:[\"PLpTrdzbmZhPnOvI1xbDum9CdwVd3Jv4HW\",\"PLAr_WbjGaCm7ySKCYRIhuKoQLtKqQFpcn\"]}"
   ]
  },
  {
   "cell_type": "markdown",
   "id": "70095fe1",
   "metadata": {},
   "source": [
    "# Spotify API - Long audios"
   ]
  },
  {
   "cell_type": "code",
   "execution_count": 76,
   "id": "641fa458",
   "metadata": {},
   "outputs": [],
   "source": [
    "# Anter API keys (client id, client secret)\n",
    "#spotify_client_id = getpass.getpass()\n",
    "#spotify_client_secret = getpass.getpass()"
   ]
  },
  {
   "cell_type": "code",
   "execution_count": 77,
   "id": "d8806f5a",
   "metadata": {},
   "outputs": [],
   "source": [
    "# Active connection to the API\n",
    "#sp = spotipy.Spotify(auth_manager=SpotifyClientCredentials(client_id=spotify_client_id, client_secret=spotify_client_secret))"
   ]
  },
  {
   "cell_type": "code",
   "execution_count": 79,
   "id": "d8b3e6f4",
   "metadata": {},
   "outputs": [],
   "source": [
    "# spotify podcasts/shows for each category (with the last version of the dictionaries)\n",
    "\n",
    "spotify_shows_short_dict = {1:[\"2CrsGIq5kZ1tdhfR8ErLjV\",\"68izf5nimyTGXIQpGIgSQf\",\"3i60IXPK1bU0F5rSAlLkT4\"],\n",
    "                            2:[\"1Hu2IvAraIYCQV2FYW8NRi\",\"1SlYCHv2LiBM5iqQp8jaI8\",\"5gS9llUxTSORzMZtbDK4xh\"],\n",
    "                            3:[\"7uz2rjUW6bGrPCgw4rI8K4\",\"1wr9Zby7ON9HUPoIyTcVEG\",\"2MydwKJpiKwiNRdxIzvFIt\"],\n",
    "                            4:[\"2M8C3oMrDwkImxrmRrrRNp\",\"4wgPXhl521aaZwBPeyfG5n\",\"2ubmHG1gV6pUppOJzIPY3b\",\"0R0mqRLGxaeRqbmDyjZZnv\",\"7Hz6CgzLhwD8nmhhhdwpvg\"],\n",
    "                            5:[\"1lQm0puWpskCrvm2QwCgvI\",\"7lrfQcDPFXJ3WiAdvilLpJ\"]}\n",
    "\n",
    "spotify_shows_long_dict = {1:[\"67EPVbpyjlDxGWsrfzdYu5\",\"3cB1s9SwMhnliOgHXwQoaG\",\"2jrzUni2biU8YxYgRk4CU4\",\"2kknY07TQEo2OqlDZoS3aH\"],\n",
    "                           2:[\"2TfPLHDPfj6jGyqxY9b5EK\",\"62dgXqbydVyGtdVvfOF9iq\",\"4vKIcWvcbfRiC2SahrIgRc\",\"0Wg1zZBx6oiRDXnP3LPAlp\"],\n",
    "                           3:[\"3DWRmBAE1Q5rIFd9uVAy65\",\"7I1Iv7SlYzNBAhZdGvajYJ\",\"5lY4b5PGOvMuOYOjOVEcb9\",\"4DEh4HjeqDtWangI0LdyJ4\",\"2hqSzWW1GFAyugtjNxfgcR\",\"1PghZOmyq5luxxmId854zn\",\"1xDawqT8Cgm6HAnbpFX5T5\",\"7I1Iv7SlYzNBAhZdGvajYJ\",\"6S1RCtUXQ7UvKUTB77x7xH\"],\n",
    "                           4:[\"4laFHrpXGUzb9A2mWpnQMd\",\"2DVz3Bok3JzRtF4tbHZF0n\"],\n",
    "                           5:[\"0C0kfKVNmUM2nVTpMqGgUL\",\"3g71AuFYy6FnYHEI1GO9A0\",\"1Tjj1yzabKZd5cHxpjrywO\",\"3nZo0GuEfiOMacTbOb2ESE\",\"3aATkNVj7eAKbCCPODUPQ3\",\"255Q80aZBo5qlmmFRW5hRO\"]}"
   ]
  },
  {
   "cell_type": "markdown",
   "id": "9383d5e4",
   "metadata": {},
   "source": [
    "# Ted talks - Short audios"
   ]
  },
  {
   "cell_type": "markdown",
   "id": "c4aa6fe1",
   "metadata": {},
   "source": [
    "History"
   ]
  },
  {
   "cell_type": "code",
   "execution_count": 80,
   "id": "a211de84",
   "metadata": {},
   "outputs": [],
   "source": [
    "url_ted_hist = 'https://www.ted.com/talks?topics%5B%5D=history&sort=newest&language=en&duration=0-6'"
   ]
  },
  {
   "cell_type": "code",
   "execution_count": 81,
   "id": "faa89143",
   "metadata": {},
   "outputs": [],
   "source": [
    "response_ted_hist = requests.get(url_ted_hist)"
   ]
  },
  {
   "cell_type": "code",
   "execution_count": 82,
   "id": "df51967b",
   "metadata": {},
   "outputs": [],
   "source": [
    "soup_ted_hist = BeautifulSoup(response_ted_hist.content)"
   ]
  },
  {
   "cell_type": "code",
   "execution_count": 83,
   "id": "4331c942",
   "metadata": {},
   "outputs": [],
   "source": [
    "links_ted_hist = soup_ted_hist.find_all('h4', attrs={'class':'f-w:700 h9 m5'})"
   ]
  },
  {
   "cell_type": "code",
   "execution_count": 84,
   "id": "12895989",
   "metadata": {},
   "outputs": [],
   "source": [
    "ted_hist = links_ted_hist[1]"
   ]
  },
  {
   "cell_type": "code",
   "execution_count": 85,
   "id": "07cdb899",
   "metadata": {},
   "outputs": [],
   "source": [
    "url_list_ted_hist = [\"https://www.ted.com\" + ted_hist.a['href'] for ted_hist in links_ted_hist]"
   ]
  },
  {
   "cell_type": "code",
   "execution_count": 86,
   "id": "ba4d399a",
   "metadata": {},
   "outputs": [],
   "source": [
    "#webbrowser.open(random.choice(url_list_ted_hist))"
   ]
  },
  {
   "cell_type": "markdown",
   "id": "9e8d3c82",
   "metadata": {},
   "source": [
    "Art & Literature"
   ]
  },
  {
   "cell_type": "code",
   "execution_count": 87,
   "id": "37d1e9af",
   "metadata": {},
   "outputs": [],
   "source": [
    "url_ted_art = 'https://www.ted.com/talks?topics%5B%5D=art&sort=newest&language=en&duration=0-6'"
   ]
  },
  {
   "cell_type": "code",
   "execution_count": 88,
   "id": "2d16cb49",
   "metadata": {},
   "outputs": [],
   "source": [
    "response_ted_art = requests.get(url_ted_art)"
   ]
  },
  {
   "cell_type": "code",
   "execution_count": 89,
   "id": "020bdc97",
   "metadata": {},
   "outputs": [],
   "source": [
    "soup_ted_art = BeautifulSoup(response_ted_art.content)"
   ]
  },
  {
   "cell_type": "code",
   "execution_count": 90,
   "id": "31e8eeee",
   "metadata": {},
   "outputs": [],
   "source": [
    "links_ted_art = soup_ted_art.find_all('h4', attrs={'class':'f-w:700 h9 m5'})"
   ]
  },
  {
   "cell_type": "code",
   "execution_count": 91,
   "id": "15754e9a",
   "metadata": {},
   "outputs": [],
   "source": [
    "ted_art = links_ted_art[1]"
   ]
  },
  {
   "cell_type": "code",
   "execution_count": 92,
   "id": "7df9b723",
   "metadata": {},
   "outputs": [],
   "source": [
    "url_list_ted_art = [\"https://www.ted.com\" + ted_art.a['href'] for ted_art in links_ted_art]"
   ]
  },
  {
   "cell_type": "code",
   "execution_count": 93,
   "id": "442b270f",
   "metadata": {},
   "outputs": [],
   "source": [
    "#webbrowser.open(random.choice(url_list_ted_art))"
   ]
  },
  {
   "cell_type": "markdown",
   "id": "246003d4",
   "metadata": {},
   "source": [
    "Science & Nature"
   ]
  },
  {
   "cell_type": "code",
   "execution_count": 94,
   "id": "dc12668f",
   "metadata": {},
   "outputs": [],
   "source": [
    "url_ted_sc = 'https://www.ted.com/talks?topics%5B%5D=science&sort=newest&language=en&duration=0-6'"
   ]
  },
  {
   "cell_type": "code",
   "execution_count": 95,
   "id": "a97e8e77",
   "metadata": {},
   "outputs": [],
   "source": [
    "response_ted_sc = requests.get(url_ted_sc)"
   ]
  },
  {
   "cell_type": "code",
   "execution_count": 96,
   "id": "2cbc8050",
   "metadata": {},
   "outputs": [],
   "source": [
    "soup_ted_sc = BeautifulSoup(response_ted_sc.content)"
   ]
  },
  {
   "cell_type": "code",
   "execution_count": 97,
   "id": "7cb418e1",
   "metadata": {},
   "outputs": [],
   "source": [
    "links_ted_sc = soup_ted_sc.find_all('h4', attrs={'class':'f-w:700 h9 m5'})"
   ]
  },
  {
   "cell_type": "code",
   "execution_count": 98,
   "id": "f2901f99",
   "metadata": {},
   "outputs": [],
   "source": [
    "ted_sc = links_ted_sc[1]"
   ]
  },
  {
   "cell_type": "code",
   "execution_count": 99,
   "id": "4561818f",
   "metadata": {},
   "outputs": [],
   "source": [
    "url_list_ted_sc = [\"https://www.ted.com\" + ted_sc.a['href'] for ted_sc in links_ted_sc]"
   ]
  },
  {
   "cell_type": "code",
   "execution_count": 100,
   "id": "35c5c0cf",
   "metadata": {},
   "outputs": [],
   "source": [
    "#webbrowser.open(random.choice(url_list_ted_sc))"
   ]
  },
  {
   "cell_type": "markdown",
   "id": "2fb11e50",
   "metadata": {},
   "source": [
    "Geography"
   ]
  },
  {
   "cell_type": "code",
   "execution_count": 101,
   "id": "75ced747",
   "metadata": {},
   "outputs": [],
   "source": [
    "url_ted_ge = 'https://www.ted.com/talks?topics%5B%5D=global+issues&sort=newest&language=en&duration=0-6'"
   ]
  },
  {
   "cell_type": "code",
   "execution_count": 102,
   "id": "6dcf5d59",
   "metadata": {},
   "outputs": [],
   "source": [
    "response_ted_ge = requests.get(url_ted_ge)"
   ]
  },
  {
   "cell_type": "code",
   "execution_count": 103,
   "id": "aae61700",
   "metadata": {},
   "outputs": [],
   "source": [
    "soup_ted_ge = BeautifulSoup(response_ted_ge.content)"
   ]
  },
  {
   "cell_type": "code",
   "execution_count": 104,
   "id": "6e07787e",
   "metadata": {},
   "outputs": [],
   "source": [
    "links_ted_ge = soup_ted_ge.find_all('h4', attrs={'class':'f-w:700 h9 m5'})"
   ]
  },
  {
   "cell_type": "code",
   "execution_count": 105,
   "id": "38c0dae0",
   "metadata": {},
   "outputs": [],
   "source": [
    "ted_ge = links_ted_ge[1]"
   ]
  },
  {
   "cell_type": "code",
   "execution_count": 106,
   "id": "a1e918b2",
   "metadata": {},
   "outputs": [],
   "source": [
    "url_list_ted_ge = [\"https://www.ted.com\" + ted_ge.a['href'] for ted_ge in links_ted_ge]"
   ]
  },
  {
   "cell_type": "code",
   "execution_count": 107,
   "id": "0250a6f6",
   "metadata": {},
   "outputs": [],
   "source": [
    "#webbrowser.open(random.choice(url_list_ted_ge))"
   ]
  },
  {
   "cell_type": "markdown",
   "id": "6ff8c118",
   "metadata": {},
   "source": [
    "Sport & Leisure "
   ]
  },
  {
   "cell_type": "code",
   "execution_count": 108,
   "id": "16134f67",
   "metadata": {},
   "outputs": [],
   "source": [
    "url_ted_sp = 'https://www.ted.com/talks?topics%5B%5D=sports&sort=newest&language=en&duration=0-6'"
   ]
  },
  {
   "cell_type": "code",
   "execution_count": 109,
   "id": "f6175b82",
   "metadata": {},
   "outputs": [],
   "source": [
    "response_ted_sp = requests.get(url_ted_sp)"
   ]
  },
  {
   "cell_type": "code",
   "execution_count": 110,
   "id": "e86e1728",
   "metadata": {},
   "outputs": [],
   "source": [
    "soup_ted_sp = BeautifulSoup(response_ted_sp.content)"
   ]
  },
  {
   "cell_type": "code",
   "execution_count": 111,
   "id": "4719663c",
   "metadata": {},
   "outputs": [],
   "source": [
    "links_ted_sp = soup_ted_sp.find_all('h4', attrs={'class':'f-w:700 h9 m5'})"
   ]
  },
  {
   "cell_type": "code",
   "execution_count": 112,
   "id": "47197551",
   "metadata": {},
   "outputs": [],
   "source": [
    "ted_sp = links_ted_sp[1]"
   ]
  },
  {
   "cell_type": "code",
   "execution_count": 113,
   "id": "9543e734",
   "metadata": {},
   "outputs": [],
   "source": [
    "url_list_ted_sp = [\"https://www.ted.com\" + ted_sp.a['href'] for ted_sp in links_ted_sp]"
   ]
  },
  {
   "cell_type": "code",
   "execution_count": 114,
   "id": "2d1e0785",
   "metadata": {},
   "outputs": [],
   "source": [
    "#webbrowser.open(random.choice(url_list_ted_sp))"
   ]
  },
  {
   "cell_type": "markdown",
   "id": "9816b368",
   "metadata": {},
   "source": [
    "# L.earn - Output of our product"
   ]
  },
  {
   "cell_type": "code",
   "execution_count": 115,
   "id": "ce3e6a07",
   "metadata": {},
   "outputs": [],
   "source": [
    "#Functions:\n",
    "\n",
    "#Introduction\n",
    "def start():\n",
    "    print('Welcome to L.earn! \\n')\n",
    "    select_category()\n",
    "    \n",
    "#Ask the user to end or restart the game\n",
    "def restart_or_end():\n",
    "    intended_action_restart= int(input('\\033[1m'+\"\\n \\nDo you have more time to continue learning?\\n \\n\"+'\\033[0m'+\"Type 1 if you have learnt enough for today.\\nType 2 if you would like to continue learning and let's go to earn more credits! \\n\"))\n",
    "    \n",
    "    if intended_action_restart == 1:\n",
    "        print('\\033[1m'+\"Congratulations, we got you covered. See you tomorrow!\")\n",
    "    elif intended_action_restart == 2:\n",
    "        select_category()\n",
    "    else:\n",
    "        print(\"Sorry, not sure what you mean.\")\n",
    "        intended_action_restart= int(input(\"Please type 1 to exit or 2 to learn more \\n\"))\n",
    "            \n",
    "        \n",
    "#Select a category\n",
    "def select_category():\n",
    "    intended_action_topic= int(input(\"Please, select a category. Type: \\n\\n\"+ \" 1 - History \\n 2 - Arts & Literature \\n 3 - Science & Nature \\n 4 - Geography \\n 5 - Sports & Leisure \\n 6 - I don't have much time today. Surprise me! \\n\"))\n",
    "    \n",
    "    if intended_action_topic == 6:\n",
    "        choose() \n",
    "        \n",
    "    elif intended_action_topic==1 or intended_action_topic==2 or intended_action_topic==3  or intended_action_topic==4  or intended_action_topic==5:\n",
    "        intended_action_format= int(input(\"Please, select the format of the content. Type: \\n\\n 1 - Video \\n 2 - Audio \\n 3 - Reading \\n\"))\n",
    "        intended_action_time = int(input(\"What do you prefer today? Type: \\n\\n 1 - short content \\n 2 - long content \\n\"))\n",
    "        output(intended_action_topic,intended_action_format,intended_action_time)\n",
    "    else:        \n",
    "        print(\"Sorry, not sure what you mean.\")\n",
    "        intended_action_topic= int(input(\"Please, select a category. Type: \\n\\n 1 - History \\n 2 - Arts & Literature \\n 3 - Science & Nature \\n 4 - Geography \\n 5 - Sports & Leisure \\n 6 - I don't have much time today. Surprise me! \\n\"))\n",
    "\n",
    "#If the category is 6 - Surprise me! -> to choose between game or short readings\n",
    "def choose():\n",
    "    intended_action_choose=int(input(\"What do you prefer? Please, type: \\n\\n 1 - Quick readings!\\n 2 - I want to play! (Game) \\n\"))\n",
    "    if intended_action_choose == 1:\n",
    "        quick_readings()\n",
    "    elif intended_action_choose ==2:\n",
    "        game()\n",
    "        \n",
    "\n",
    "#If intended_action_choose -> Game:\n",
    "def game():\n",
    "    #initiallize GUI application\n",
    "    app = QApplication(sys.argv)\n",
    "\n",
    "    #window and settings\n",
    "    window = QWidget()\n",
    "    window.setWindowTitle(\"L.trivia\")\n",
    "    window.setFixedWidth(1000)\n",
    "    #place window in (x,y) coordinates\n",
    "    # window.move(2700, 200)\n",
    "    window.setStyleSheet(\"background: #161219;\")\n",
    "\n",
    "    #display frame 1\n",
    "    frame1()\n",
    "\n",
    "    window.setLayout(grid)\n",
    "\n",
    "    window.show()\n",
    "    sys.exit(app.exec()) #terminate the app\n",
    "    \n",
    "\n",
    "#If intended_action_choose -> quick readings:\n",
    "def quick_readings():\n",
    "    print('Great! We have something for you: \\n')\n",
    "    print('\\033[1m'+'The quote of the day is: \\n'+'\\033[0m'+quote_of_the_day+'\\n')\n",
    "    print('\\033[1m'+'The life hack of the day is: '+'\\033[0m')\n",
    "    print(hack_of_the_day+'\\n')\n",
    "    print('\\033[1m'+'The interesting fact of the day is: '+'\\033[0m')\n",
    "    print(interesting_tweet+'\\n')\n",
    "    print('\\033[1m'+'The film of the day is: '+'\\033[0m')\n",
    "    print('Title: '+film_of_the_day_title+'\\n'+'Initital release: '+film_of_the_day_release_clean+'\\n'+'Director and main actors: '+film_of_the_day_director+'\\n'+'Stars: '+film_of_the_day_stars+'\\n')\n",
    "    restart_or_end()        \n",
    "\n",
    "    \n",
    "# select youtube video and open link    \n",
    "def play_youtube(x,z):\n",
    "    if z==1: # short videos\n",
    "        random_youtube_playlist = random.choices(youtube_playlists_short_dict[x], k=1)\n",
    "        random_youtube_playlist_var = ''.join(random_youtube_playlist)\n",
    "        videos_playlist = yt.get_videos_from_playlist_id(playlist_id=random_youtube_playlist_var)\n",
    "        videos_playlist_df = pd.DataFrame(videos_playlist)\n",
    "        video_data = yt.get_video_metadata(video_id=random.choice(videos_playlist_df['video_id']))\n",
    "        url = 'https://www.youtube.com/watch?v='+video_data['video_id']\n",
    "        print(video_data['video_title'],'(',video_data['channel_title'],')')\n",
    "        return webbrowser.open_new_tab(url)\n",
    "    else: # long videos\n",
    "        random_youtube_playlist = random.choices(youtube_playlists_long_dict[x], k=1)\n",
    "        random_youtube_playlist_var = ''.join(random_youtube_playlist)\n",
    "        videos_playlist = yt.get_videos_from_playlist_id(playlist_id=random_youtube_playlist_var)\n",
    "        videos_playlist_df = pd.DataFrame(videos_playlist)\n",
    "        video_data = yt.get_video_metadata(video_id=random.choice(videos_playlist_df['video_id']))\n",
    "        url = 'https://www.youtube.com/watch?v='+video_data['video_id']\n",
    "        print(video_data['video_title'],'(',video_data['channel_title'],')')\n",
    "        return webbrowser.open_new_tab(url)\n",
    "\n",
    "    \n",
    "# select spotify podcast episode and open link    \n",
    "def play_spotify(x,z):\n",
    "    if z==1: # short episods\n",
    "        random_spotify_show = random.choices(spotify_shows_short_dict[x], k=1)\n",
    "        random_spotify_show_var = ''.join(random_spotify_show)\n",
    "        episodes = sp.show_episodes(random_spotify_show_var, market='DE')  ### UPDATE MARKET\n",
    "        episodes_data_df = pd.DataFrame(episodes)\n",
    "        episodes_data_df = pd.json_normalize(episodes_data_df['items'])\n",
    "        random_episode = random.choice(episodes_data_df['id'])\n",
    "        url = 'https://open.spotify.com/episode/'+random_episode\n",
    "        return webbrowser.open_new_tab(url)\n",
    "    else: # long episods\n",
    "        random_spotify_show = random.choices(spotify_shows_long_dict[x], k=1)\n",
    "        random_spotify_show_var = ''.join(random_spotify_show)\n",
    "        episodes = sp.show_episodes(random_spotify_show_var, market='DE')  ### UPDATE MARKET\n",
    "        episodes_data_df = pd.DataFrame(episodes)\n",
    "        episodes_data_df = pd.json_normalize(episodes_data_df['items'])\n",
    "        random_episode = random.choice(episodes_data_df['id'])\n",
    "        url = 'https://open.spotify.com/episode/'+random_episode\n",
    "        return webbrowser.open_new_tab(url)    \n",
    "\n",
    "    \n",
    "def output(x,y,z):\n",
    "    \n",
    "#HISTORY OUTPUT\n",
    "\n",
    "    #History + Video + Short:\n",
    "    if x==1 and y==1 and z==1: \n",
    "        webbrowser.open(random.choice(url_list_ted_hist)), restart_or_end()\n",
    "    \n",
    "    #History + Video + Long:\n",
    "    if x==1 and y==1 and z==2:\n",
    "        return play_youtube(x,z), restart_or_end()\n",
    "        \n",
    "    #History + Audio + Short:\n",
    "    if x==1 and y==2 and z==1: \n",
    "        return play_spotify(x,z), restart_or_end()\n",
    "\n",
    "    #History + Audio + Long:\n",
    "    if x==1 and y==2 and z==2: \n",
    "        return play_spotify(x,z), restart_or_end()\n",
    "\n",
    "    #History + Reading + Short:\n",
    "    if x==1 and y==3 and z==1: \n",
    "        print('\\n'+history_tweet), restart_or_end()\n",
    "        \n",
    "    #History + Reading + Long:\n",
    "    if x==1 and y==3 and z==2: \n",
    "        for paragraph_his in paragraphs_long_his:\n",
    "            print(paragraph_his.text)\n",
    "        restart_or_end()\n",
    "    \n",
    "#ART & LITERATURE OUTPUT \n",
    "    \n",
    "    #Art & Literature + Video + Short:\n",
    "    if x==2 and y==1 and z==1: \n",
    "        webbrowser.open(random.choice(url_list_ted_art)), restart_or_end()\n",
    "    \n",
    "    #Art & Literature + Video + Long:\n",
    "    if x==2 and y==1 and z==2:\n",
    "        return play_youtube(x,z), restart_or_end() \n",
    "        \n",
    "    #Art & Literature + Audio + Short:\n",
    "    if x==2 and y==2 and z==1: \n",
    "        return play_spotify(x,z), restart_or_end()\n",
    "\n",
    "    #Art & Literature + Audio + Long:\n",
    "    if x==2 and y==2 and z==2: \n",
    "        return play_spotify(x,z), restart_or_end()\n",
    "\n",
    "    #Art & Literature + Reading + Short:\n",
    "    if x==2 and y==3 and z==1: \n",
    "        print('\\n'+literature_tweet), restart_or_end()\n",
    "\n",
    "    #Art & Literature + Reading + Long:\n",
    "    if x==2 and y==3 and z==2: \n",
    "        for paragraph_art in paragraphs_long_art:\n",
    "          print(paragraph_art.text)\n",
    "        restart_or_end()\n",
    "        \n",
    "    \n",
    "#SCIENCE AND NATURE\n",
    "\n",
    "    #Science & Nature + Video + Short:\n",
    "    if x==3 and y==1 and z==1:\n",
    "        webbrowser.open(random.choice(url_list_ted_sc)), restart_or_end()\n",
    "    \n",
    "    #Science & Nature + Video + Long:\n",
    "    if x==3 and y==1 and z==2:\n",
    "        return play_youtube(x,z), restart_or_end()\n",
    "        \n",
    "    #Science & Nature + Audio + Short:\n",
    "    if x==3 and y==2 and z==1: \n",
    "        return play_spotify(x,z), restart_or_end()\n",
    "\n",
    "    #Science & Nature + Audio + Long:\n",
    "    if x==3 and y==2 and z==2: \n",
    "        return play_spotify(x,z), restart_or_end()\n",
    "\n",
    "    #Science & Nature + Reading + Short:\n",
    "    if x==3 and y==3 and z==1: \n",
    "        print('\\n'+science_tweet), restart_or_end()\n",
    "\n",
    "    #Science & Nature + Reading + Long:\n",
    "    if x==3 and y==3 and z==2: \n",
    "        for paragraph_science in paragraphs_long_science:\n",
    "          print(paragraph_science.text)\n",
    "        restart_or_end()\n",
    "        \n",
    "\n",
    "#GEOGRAPHY\n",
    "    \n",
    "    #Geography + Video + Short:\n",
    "    if x==4 and y==1 and z==1: \n",
    "        webbrowser.open(random.choice(url_list_ted_ge)), restart_or_end()\n",
    "    \n",
    "    #Geography + Video + Long:\n",
    "    if x==4 and y==1 and z==2:\n",
    "        return play_youtube(x,z), restart_or_end()\n",
    "        \n",
    "    #Geography + Audio + Short:\n",
    "    if x==4 and y==2 and z==1: \n",
    "        return play_spotify(x,z), restart_or_end()\n",
    "\n",
    "    #Geography + Audio + Long:\n",
    "    if x==4 and y==2 and z==2: \n",
    "        return play_spotify(x,z), restart_or_end()\n",
    "\n",
    "    #Geography + Reading + Short:\n",
    "    if x==4 and y==3 and z==1: \n",
    "        print('\\n'+geo_tweet), restart_or_end()\n",
    "\n",
    "    #Geography + Reading + Long:\n",
    "    if x==4 and y==3 and z==2: \n",
    "        for paragraph_geogrpahy in paragraphs_long_geo:\n",
    "            print(paragraph_geogrpahy.text) \n",
    "        restart_or_end()\n",
    "            \n",
    "    \n",
    "#SPORTS & LEISURE\n",
    "\n",
    "    #Sports & Leisure + Video + Short:\n",
    "    if x==5 and y==1 and z==1: \n",
    "        webbrowser.open(random.choice(url_list_ted_sp)), restart_or_end()\n",
    "    \n",
    "    #Sports & Leisure + Video + Long:\n",
    "    if x==5 and y==1 and z==2:\n",
    "        return play_youtube(x,z), restart_or_end()\n",
    "        \n",
    "    #Sports & Leisure + Audio + Short:\n",
    "    if x==5 and y==2 and z==1: \n",
    "        return play_spotify(x,z), restart_or_end()\n",
    "\n",
    "    #Sports & Leisure + Audio + Long:\n",
    "    if x==5 and y==2 and z==2: \n",
    "        return play_spotify(x,z), restart_or_end()\n",
    "\n",
    "    #Sports & Leisure + Reading + Short:\n",
    "    if x==5 and y==3 and z==1: \n",
    "        print('\\n'+sports_tweet), restart_or_end()\n",
    "\n",
    "    #Sports & Leisure + Reading + Long:\n",
    "    if x==5 and y==3 and z==2: \n",
    "        for paragraph_sports in paragraphs_long_sports:\n",
    "          print(paragraph_sports.text)\n",
    "        restart_or_end()"
   ]
  },
  {
   "cell_type": "markdown",
   "id": "35baf65e",
   "metadata": {},
   "source": [
    "# Let's run our product: L.earn"
   ]
  },
  {
   "cell_type": "code",
   "execution_count": 116,
   "id": "024a4bff",
   "metadata": {},
   "outputs": [
    {
     "name": "stdout",
     "output_type": "stream",
     "text": [
      "Welcome to L.earn! \n",
      "\n",
      "Please, select a category. Type: \n",
      "\n",
      " 1 - History \n",
      " 2 - Arts & Literature \n",
      " 3 - Science & Nature \n",
      " 4 - Geography \n",
      " 5 - Sports & Leisure \n",
      " 6 - I don't have much time today. Surprise me! \n",
      "1\n",
      "Please, select the format of the content. Type: \n",
      "\n",
      " 1 - Video \n",
      " 2 - Audio \n",
      " 3 - Reading \n",
      "3\n",
      "What do you prefer today? Type: \n",
      "\n",
      " 1 - short content \n",
      " 2 - long content \n",
      "1\n",
      "\n",
      "A drum with the insignia of Augustus II, king of Poland between 1697-1706 and 1709-1733 (he briefly had to give up… https://t.co/JP6Ioc8Orp\n",
      "\n",
      " \n",
      "Do you have more time to continue learning?\n",
      " \n",
      "Type 1 if you have learnt enough for today.\n",
      "Type 2 if you would like to continue learning and let's go to earn more credits! \n",
      "2\n",
      "Please, select a category. Type: \n",
      "\n",
      " 1 - History \n",
      " 2 - Arts & Literature \n",
      " 3 - Science & Nature \n",
      " 4 - Geography \n",
      " 5 - Sports & Leisure \n",
      " 6 - I don't have much time today. Surprise me! \n",
      "1\n",
      "Please, select the format of the content. Type: \n",
      "\n",
      " 1 - Video \n",
      " 2 - Audio \n",
      " 3 - Reading \n",
      "2\n",
      "What do you prefer today? Type: \n",
      "\n",
      " 1 - short content \n",
      " 2 - long content \n",
      "1\n",
      "\n",
      " \n",
      "Do you have more time to continue learning?\n",
      " \n",
      "Type 1 if you have learnt enough for today.\n",
      "Type 2 if you would like to continue learning and let's go to earn more credits! \n",
      "1\n",
      "\u001b[1mCongratulations, we got you covered. See you tomorrow!\n"
     ]
    }
   ],
   "source": [
    "start()"
   ]
  },
  {
   "cell_type": "code",
   "execution_count": null,
   "id": "86da6202",
   "metadata": {},
   "outputs": [],
   "source": []
  }
 ],
 "metadata": {
  "kernelspec": {
   "display_name": "Python 3 (ipykernel)",
   "language": "python",
   "name": "python3"
  },
  "language_info": {
   "codemirror_mode": {
    "name": "ipython",
    "version": 3
   },
   "file_extension": ".py",
   "mimetype": "text/x-python",
   "name": "python",
   "nbconvert_exporter": "python",
   "pygments_lexer": "ipython3",
   "version": "3.9.7"
  }
 },
 "nbformat": 4,
 "nbformat_minor": 5
}
